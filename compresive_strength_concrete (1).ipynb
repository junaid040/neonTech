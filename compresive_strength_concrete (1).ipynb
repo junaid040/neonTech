{
  "nbformat": 4,
  "nbformat_minor": 0,
  "metadata": {
    "colab": {
      "name": "compresive_strength_concrete.ipynb",
      "provenance": [],
      "collapsed_sections": []
    },
    "kernelspec": {
      "name": "python3",
      "display_name": "Python 3"
    },
    "language_info": {
      "name": "python"
    },
    "accelerator": "TPU"
  },
  "cells": [
    {
      "cell_type": "code",
      "metadata": {
        "id": "8ALQBh-VNEoD"
      },
      "source": [
        "import pandas as pd\n",
        "import numpy as np\n",
        "import matplotlib.pyplot as plt"
      ],
      "execution_count": 2,
      "outputs": []
    },
    {
      "cell_type": "code",
      "metadata": {
        "id": "Nvl8o9J3NQbf",
        "colab": {
          "base_uri": "https://localhost:8080/",
          "height": 473
        },
        "outputId": "5f03b8c3-6bfd-4925-de14-484496b61c8d"
      },
      "source": [
        "df = pd.read_csv(\"compresive_strength_concrete.csv\")\n",
        "df"
      ],
      "execution_count": 3,
      "outputs": [
        {
          "output_type": "execute_result",
          "data": {
            "text/html": [
              "<div>\n",
              "<style scoped>\n",
              "    .dataframe tbody tr th:only-of-type {\n",
              "        vertical-align: middle;\n",
              "    }\n",
              "\n",
              "    .dataframe tbody tr th {\n",
              "        vertical-align: top;\n",
              "    }\n",
              "\n",
              "    .dataframe thead th {\n",
              "        text-align: right;\n",
              "    }\n",
              "</style>\n",
              "<table border=\"1\" class=\"dataframe\">\n",
              "  <thead>\n",
              "    <tr style=\"text-align: right;\">\n",
              "      <th></th>\n",
              "      <th>Cement (component 1)(kg in a m^3 mixture)</th>\n",
              "      <th>Blast Furnace Slag (component 2)(kg in a m^3 mixture)</th>\n",
              "      <th>Fly Ash (component 3)(kg in a m^3 mixture)</th>\n",
              "      <th>Water  (component 4)(kg in a m^3 mixture)</th>\n",
              "      <th>Superplasticizer (component 5)(kg in a m^3 mixture)</th>\n",
              "      <th>Coarse Aggregate  (component 6)(kg in a m^3 mixture)</th>\n",
              "      <th>Fine Aggregate (component 7)(kg in a m^3 mixture)</th>\n",
              "      <th>Age (day)</th>\n",
              "      <th>Concrete compressive strength(MPa, megapascals)</th>\n",
              "    </tr>\n",
              "  </thead>\n",
              "  <tbody>\n",
              "    <tr>\n",
              "      <th>0</th>\n",
              "      <td>540.0</td>\n",
              "      <td>0.0</td>\n",
              "      <td>0.0</td>\n",
              "      <td>162.0</td>\n",
              "      <td>2.5</td>\n",
              "      <td>1040.0</td>\n",
              "      <td>676.0</td>\n",
              "      <td>28</td>\n",
              "      <td>79.99</td>\n",
              "    </tr>\n",
              "    <tr>\n",
              "      <th>1</th>\n",
              "      <td>540.0</td>\n",
              "      <td>0.0</td>\n",
              "      <td>0.0</td>\n",
              "      <td>162.0</td>\n",
              "      <td>2.5</td>\n",
              "      <td>1055.0</td>\n",
              "      <td>676.0</td>\n",
              "      <td>28</td>\n",
              "      <td>61.89</td>\n",
              "    </tr>\n",
              "    <tr>\n",
              "      <th>2</th>\n",
              "      <td>332.5</td>\n",
              "      <td>142.5</td>\n",
              "      <td>0.0</td>\n",
              "      <td>228.0</td>\n",
              "      <td>0.0</td>\n",
              "      <td>932.0</td>\n",
              "      <td>594.0</td>\n",
              "      <td>270</td>\n",
              "      <td>40.27</td>\n",
              "    </tr>\n",
              "    <tr>\n",
              "      <th>3</th>\n",
              "      <td>332.5</td>\n",
              "      <td>142.5</td>\n",
              "      <td>0.0</td>\n",
              "      <td>228.0</td>\n",
              "      <td>0.0</td>\n",
              "      <td>932.0</td>\n",
              "      <td>594.0</td>\n",
              "      <td>365</td>\n",
              "      <td>41.05</td>\n",
              "    </tr>\n",
              "    <tr>\n",
              "      <th>4</th>\n",
              "      <td>198.6</td>\n",
              "      <td>132.4</td>\n",
              "      <td>0.0</td>\n",
              "      <td>192.0</td>\n",
              "      <td>0.0</td>\n",
              "      <td>978.4</td>\n",
              "      <td>825.5</td>\n",
              "      <td>360</td>\n",
              "      <td>44.30</td>\n",
              "    </tr>\n",
              "    <tr>\n",
              "      <th>...</th>\n",
              "      <td>...</td>\n",
              "      <td>...</td>\n",
              "      <td>...</td>\n",
              "      <td>...</td>\n",
              "      <td>...</td>\n",
              "      <td>...</td>\n",
              "      <td>...</td>\n",
              "      <td>...</td>\n",
              "      <td>...</td>\n",
              "    </tr>\n",
              "    <tr>\n",
              "      <th>1025</th>\n",
              "      <td>276.4</td>\n",
              "      <td>116.0</td>\n",
              "      <td>90.3</td>\n",
              "      <td>179.6</td>\n",
              "      <td>8.9</td>\n",
              "      <td>870.1</td>\n",
              "      <td>768.3</td>\n",
              "      <td>28</td>\n",
              "      <td>44.28</td>\n",
              "    </tr>\n",
              "    <tr>\n",
              "      <th>1026</th>\n",
              "      <td>322.2</td>\n",
              "      <td>0.0</td>\n",
              "      <td>115.6</td>\n",
              "      <td>196.0</td>\n",
              "      <td>10.4</td>\n",
              "      <td>817.9</td>\n",
              "      <td>813.4</td>\n",
              "      <td>28</td>\n",
              "      <td>31.18</td>\n",
              "    </tr>\n",
              "    <tr>\n",
              "      <th>1027</th>\n",
              "      <td>148.5</td>\n",
              "      <td>139.4</td>\n",
              "      <td>108.6</td>\n",
              "      <td>192.7</td>\n",
              "      <td>6.1</td>\n",
              "      <td>892.4</td>\n",
              "      <td>780.0</td>\n",
              "      <td>28</td>\n",
              "      <td>23.70</td>\n",
              "    </tr>\n",
              "    <tr>\n",
              "      <th>1028</th>\n",
              "      <td>159.1</td>\n",
              "      <td>186.7</td>\n",
              "      <td>0.0</td>\n",
              "      <td>175.6</td>\n",
              "      <td>11.3</td>\n",
              "      <td>989.6</td>\n",
              "      <td>788.9</td>\n",
              "      <td>28</td>\n",
              "      <td>32.77</td>\n",
              "    </tr>\n",
              "    <tr>\n",
              "      <th>1029</th>\n",
              "      <td>260.9</td>\n",
              "      <td>100.5</td>\n",
              "      <td>78.3</td>\n",
              "      <td>200.6</td>\n",
              "      <td>8.6</td>\n",
              "      <td>864.5</td>\n",
              "      <td>761.5</td>\n",
              "      <td>28</td>\n",
              "      <td>32.40</td>\n",
              "    </tr>\n",
              "  </tbody>\n",
              "</table>\n",
              "<p>1030 rows × 9 columns</p>\n",
              "</div>"
            ],
            "text/plain": [
              "      Cement (component 1)(kg in a m^3 mixture)  ...  Concrete compressive strength(MPa, megapascals) \n",
              "0                                         540.0  ...                                             79.99\n",
              "1                                         540.0  ...                                             61.89\n",
              "2                                         332.5  ...                                             40.27\n",
              "3                                         332.5  ...                                             41.05\n",
              "4                                         198.6  ...                                             44.30\n",
              "...                                         ...  ...                                               ...\n",
              "1025                                      276.4  ...                                             44.28\n",
              "1026                                      322.2  ...                                             31.18\n",
              "1027                                      148.5  ...                                             23.70\n",
              "1028                                      159.1  ...                                             32.77\n",
              "1029                                      260.9  ...                                             32.40\n",
              "\n",
              "[1030 rows x 9 columns]"
            ]
          },
          "metadata": {
            "tags": []
          },
          "execution_count": 3
        }
      ]
    },
    {
      "cell_type": "code",
      "metadata": {
        "colab": {
          "base_uri": "https://localhost:8080/"
        },
        "id": "UtmlfmlANv7k",
        "outputId": "26113dce-1b49-440d-e3b1-2bcde3fedd1b"
      },
      "source": [
        "df.isna().sum()"
      ],
      "execution_count": 4,
      "outputs": [
        {
          "output_type": "execute_result",
          "data": {
            "text/plain": [
              "Cement (component 1)(kg in a m^3 mixture)                0\n",
              "Blast Furnace Slag (component 2)(kg in a m^3 mixture)    0\n",
              "Fly Ash (component 3)(kg in a m^3 mixture)               0\n",
              "Water  (component 4)(kg in a m^3 mixture)                0\n",
              "Superplasticizer (component 5)(kg in a m^3 mixture)      0\n",
              "Coarse Aggregate  (component 6)(kg in a m^3 mixture)     0\n",
              "Fine Aggregate (component 7)(kg in a m^3 mixture)        0\n",
              "Age (day)                                                0\n",
              "Concrete compressive strength(MPa, megapascals)          0\n",
              "dtype: int64"
            ]
          },
          "metadata": {
            "tags": []
          },
          "execution_count": 4
        }
      ]
    },
    {
      "cell_type": "code",
      "metadata": {
        "id": "SKctw2yNNv5T"
      },
      "source": [
        "X = df.drop('Concrete compressive strength(MPa, megapascals) ', axis = 1)\n",
        "y = df['Concrete compressive strength(MPa, megapascals) ']"
      ],
      "execution_count": 5,
      "outputs": []
    },
    {
      "cell_type": "code",
      "metadata": {
        "id": "QZJGewkYi5TM"
      },
      "source": [
        "# Split the data into train, validation & test sets\n",
        "train_split = round(0.5 * len(df)) # 50% of data\n",
        "valid_split = round(train_split + 0.2 * len(df)) # 15% of data\n",
        "X_train, y_train = X[:train_split], y[:train_split]\n",
        "X_valid, y_valid = X[train_split:valid_split], y[train_split:valid_split]\n",
        "X_test, y_test = X[valid_split:], y[valid_split:]\n"
      ],
      "execution_count": 6,
      "outputs": []
    },
    {
      "cell_type": "code",
      "metadata": {
        "id": "-YZ2PxKObMiK"
      },
      "source": [
        "# normalization\n",
        "mean = X_train.mean(axis=0)\n",
        "X_train -= mean\n",
        "\n",
        "std = X_train.std(axis=0)\n",
        "\n",
        "X_train /= std\n",
        "X_test -= mean\n",
        "X_test /= std\n",
        "X_valid -= mean\n",
        "X_valid /= std"
      ],
      "execution_count": 7,
      "outputs": []
    },
    {
      "cell_type": "code",
      "metadata": {
        "id": "Lu8akhBCTAJm"
      },
      "source": [
        "# normalization\n",
        "mean = y_train.mean(axis=0)\n",
        "y_train -= mean\n",
        "\n",
        "std = y_train.std(axis=0)\n",
        "\n",
        "y_train /= std\n",
        "y_test -= mean\n",
        "y_test /= std\n",
        "y_valid -= mean\n",
        "y_valid /= std"
      ],
      "execution_count": 8,
      "outputs": []
    },
    {
      "cell_type": "code",
      "metadata": {
        "id": "tolI-2NXkBJB"
      },
      "source": [
        "import tensorflow as tf\n",
        "partial_x_valid = tf.constant(X_valid)\n",
        "partial_x_train = tf.constant(X_train)\n",
        "partial_y_train = tf.constant(X_train)\n",
        "partial_y_valid = tf.constant(X_valid)"
      ],
      "execution_count": 9,
      "outputs": []
    },
    {
      "cell_type": "code",
      "metadata": {
        "id": "GzLtGdH3mRyE"
      },
      "source": [
        "from tensorflow.keras import models\n",
        "from tensorflow.keras import layers\n",
        "\n",
        "def build_model():\n",
        "    model = models.Sequential()\n",
        "    model.add(layers.Dense(10, activation='relu', input_shape=(partial_x_train.shape[1],)))\n",
        "    model.add(layers.Dense(8, activation='relu'))\n",
        "    model.add(layers.Dense(6, activation='relu'))\n",
        "    model.add(layers.Dense(1))\n",
        "    model.compile(optimizer='rmsprop', loss='mse', metrics=['mae'])\n",
        "    return model"
      ],
      "execution_count": 10,
      "outputs": []
    },
    {
      "cell_type": "code",
      "metadata": {
        "id": "cATRQeTPaoKe"
      },
      "source": [
        "model = build_model()\n",
        "history = model.fit(partial_x_train, partial_y_train,\n",
        "                    validation_data=(partial_x_valid, partial_y_valid),\n",
        "                    epochs=100, batch_size=1, verbose=0)\n",
        "mae_history = history.history['val_mae']\n"
      ],
      "execution_count": 11,
      "outputs": []
    },
    {
      "cell_type": "code",
      "metadata": {
        "colab": {
          "base_uri": "https://localhost:8080/"
        },
        "id": "jEtFuWe3mWMD",
        "outputId": "275aa4d2-51b1-4de9-cf26-cf33eeeec098"
      },
      "source": [
        "mae_history"
      ],
      "execution_count": 12,
      "outputs": [
        {
          "output_type": "execute_result",
          "data": {
            "text/plain": [
              "[0.8878774642944336,\n",
              " 0.8859683871269226,\n",
              " 0.8683797121047974,\n",
              " 0.8795918822288513,\n",
              " 0.8722708821296692,\n",
              " 0.8738518357276917,\n",
              " 0.8740240335464478,\n",
              " 0.8713421821594238,\n",
              " 0.8702448606491089,\n",
              " 0.8726751208305359,\n",
              " 0.8753817081451416,\n",
              " 0.8799605369567871,\n",
              " 0.869244396686554,\n",
              " 0.8735486268997192,\n",
              " 0.8757812976837158,\n",
              " 0.8693141937255859,\n",
              " 0.8694534301757812,\n",
              " 0.8721227645874023,\n",
              " 0.866851806640625,\n",
              " 0.868945837020874,\n",
              " 0.8719075322151184,\n",
              " 0.8693905472755432,\n",
              " 0.8712313771247864,\n",
              " 0.8680683374404907,\n",
              " 0.8670589327812195,\n",
              " 0.8666257262229919,\n",
              " 0.8684781789779663,\n",
              " 0.8690546751022339,\n",
              " 0.8662380576133728,\n",
              " 0.8691833019256592,\n",
              " 0.8703745603561401,\n",
              " 0.8664413094520569,\n",
              " 0.8642193675041199,\n",
              " 0.8662204146385193,\n",
              " 0.8671393394470215,\n",
              " 0.8680750131607056,\n",
              " 0.8676391243934631,\n",
              " 0.8691104650497437,\n",
              " 0.8643842339515686,\n",
              " 0.8645333051681519,\n",
              " 0.8662763237953186,\n",
              " 0.8689438104629517,\n",
              " 0.865649402141571,\n",
              " 0.8665105104446411,\n",
              " 0.8694900274276733,\n",
              " 0.8647028207778931,\n",
              " 0.8678533434867859,\n",
              " 0.8661983609199524,\n",
              " 0.8695431351661682,\n",
              " 0.8631172776222229,\n",
              " 0.8672686219215393,\n",
              " 0.8655078411102295,\n",
              " 0.8666315078735352,\n",
              " 0.8651966452598572,\n",
              " 0.8636690378189087,\n",
              " 0.8660988211631775,\n",
              " 0.8645774126052856,\n",
              " 0.863804817199707,\n",
              " 0.8663848638534546,\n",
              " 0.8670423030853271,\n",
              " 0.868868350982666,\n",
              " 0.8663977384567261,\n",
              " 0.8633298873901367,\n",
              " 0.8674837350845337,\n",
              " 0.8644383549690247,\n",
              " 0.8667717576026917,\n",
              " 0.8643520474433899,\n",
              " 0.8613032102584839,\n",
              " 0.8652293086051941,\n",
              " 0.8670725226402283,\n",
              " 0.8676556944847107,\n",
              " 0.8656353950500488,\n",
              " 0.8640984296798706,\n",
              " 0.8647522330284119,\n",
              " 0.8679155707359314,\n",
              " 0.8664572834968567,\n",
              " 0.8654215335845947,\n",
              " 0.8657714128494263,\n",
              " 0.8655663132667542,\n",
              " 0.8670102953910828,\n",
              " 0.8623875975608826,\n",
              " 0.8675239086151123,\n",
              " 0.8680588006973267,\n",
              " 0.8615182042121887,\n",
              " 0.8639242053031921,\n",
              " 0.8670817017555237,\n",
              " 0.870215654373169,\n",
              " 0.8658166527748108,\n",
              " 0.8629488348960876,\n",
              " 0.8650930523872375,\n",
              " 0.8651803135871887,\n",
              " 0.8659681081771851,\n",
              " 0.8652923107147217,\n",
              " 0.8651661276817322,\n",
              " 0.8651849031448364,\n",
              " 0.8636773228645325,\n",
              " 0.868604838848114,\n",
              " 0.8656406402587891,\n",
              " 0.8665774464607239,\n",
              " 0.868337094783783]"
            ]
          },
          "metadata": {
            "tags": []
          },
          "execution_count": 12
        }
      ]
    },
    {
      "cell_type": "code",
      "metadata": {
        "colab": {
          "base_uri": "https://localhost:8080/"
        },
        "id": "4WUnUlg83XEI",
        "outputId": "9d017c6d-68e2-445f-a2cd-e0fa75ff864b"
      },
      "source": [
        "history_dict = history.history\n",
        "history_dict.keys()"
      ],
      "execution_count": 13,
      "outputs": [
        {
          "output_type": "execute_result",
          "data": {
            "text/plain": [
              "dict_keys(['loss', 'mae', 'val_loss', 'val_mae'])"
            ]
          },
          "metadata": {
            "tags": []
          },
          "execution_count": 13
        }
      ]
    },
    {
      "cell_type": "code",
      "metadata": {
        "colab": {
          "base_uri": "https://localhost:8080/",
          "height": 278
        },
        "id": "jFCvIbuRnaZ3",
        "outputId": "e67daa3d-dc11-4380-d9ad-dfd7dab30c07"
      },
      "source": [
        "plt.plot(range(1, len(mae_history) + 1), mae_history)\n",
        "plt.xlabel('Epochs')\n",
        "plt.ylabel('Validation MAE')\n",
        "plt.show()"
      ],
      "execution_count": 14,
      "outputs": [
        {
          "output_type": "display_data",
          "data": {
            "image/png": "[encoded data removed]",
            "text/plain": [
              "<Figure size 432x288 with 1 Axes>"
            ]
          },
          "metadata": {
            "tags": [],
            "needs_background": "light"
          }
        }
      ]
    },
    {
      "cell_type": "code",
      "metadata": {
        "id": "MoVIec4-qLtC"
      },
      "source": [
        "from tensorflow.keras import models\n",
        "from tensorflow.keras import layers\n",
        "\n",
        "def build_model():\n",
        "    model = models.Sequential()\n",
        "    model.add(layers.Dense(8, activation='relu', input_shape=(partial_x_train.shape[1],)))\n",
        "    model.add(layers.Dense(8, activation='relu'))\n",
        "    model.add(layers.Dense(6, activation='relu'))\n",
        "    model.add(layers.Dense(1))\n",
        "    model.compile(optimizer='rmsprop', loss='mse', metrics=['mae'])\n",
        "    return model\n",
        "model = build_model()\n",
        "history = model.fit(partial_x_train, partial_y_train,\n",
        "                    validation_data=(partial_x_valid, partial_y_valid),\n",
        "                    epochs=35, batch_size=1, verbose=0)\n",
        "mae_history = history.history['val_mae']    "
      ],
      "execution_count": 17,
      "outputs": []
    },
    {
      "cell_type": "code",
      "metadata": {
        "colab": {
          "base_uri": "https://localhost:8080/"
        },
        "id": "SQzqVSXoqJDn",
        "outputId": "5d18603c-7435-46c0-f110-0e3f97634db5"
      },
      "source": [
        "mae_history"
      ],
      "execution_count": 18,
      "outputs": [
        {
          "output_type": "execute_result",
          "data": {
            "text/plain": [
              "[0.8686673641204834,\n",
              " 0.877159833908081,\n",
              " 0.8792117238044739,\n",
              " 0.8864538669586182,\n",
              " 0.8820332884788513,\n",
              " 0.8757862448692322,\n",
              " 0.8793349266052246,\n",
              " 0.8830559849739075,\n",
              " 0.8764697909355164,\n",
              " 0.8794478178024292,\n",
              " 0.8736382126808167,\n",
              " 0.8781588077545166,\n",
              " 0.8773476481437683,\n",
              " 0.8719675540924072,\n",
              " 0.8735760450363159,\n",
              " 0.8726176023483276,\n",
              " 0.8762320876121521,\n",
              " 0.8722437620162964,\n",
              " 0.8700237274169922,\n",
              " 0.8722726106643677,\n",
              " 0.8671906590461731,\n",
              " 0.8681725859642029,\n",
              " 0.8662648797035217,\n",
              " 0.8752112984657288,\n",
              " 0.8664340972900391,\n",
              " 0.8650124073028564,\n",
              " 0.8737872838973999,\n",
              " 0.8707988858222961,\n",
              " 0.8715081810951233,\n",
              " 0.8677355647087097,\n",
              " 0.8689035177230835,\n",
              " 0.8656086325645447,\n",
              " 0.8685303330421448,\n",
              " 0.866675078868866,\n",
              " 0.86586993932724]"
            ]
          },
          "metadata": {
            "tags": []
          },
          "execution_count": 18
        }
      ]
    },
    {
      "cell_type": "code",
      "metadata": {
        "id": "NGYVK8KqAD2f"
      },
      "source": [
        "test_mse, test_mae = model.evaluate(X_test, y_test, verbose=0)"
      ],
      "execution_count": 20,
      "outputs": []
    },
    {
      "cell_type": "code",
      "metadata": {
        "id": "k3kgwv9frRvD",
        "colab": {
          "base_uri": "https://localhost:8080/"
        },
        "outputId": "2ab0ffdd-b944-40ac-fa9e-613aa4a3b74b"
      },
      "source": [
        "test_mse, test_mae"
      ],
      "execution_count": 21,
      "outputs": [
        {
          "output_type": "execute_result",
          "data": {
            "text/plain": [
              "(0.8526333570480347, 0.7583510279655457)"
            ]
          },
          "metadata": {
            "tags": []
          },
          "execution_count": 21
        }
      ]
    },
    {
      "cell_type": "code",
      "metadata": {
        "colab": {
          "base_uri": "https://localhost:8080/"
        },
        "id": "nhK-18T2rgAa",
        "outputId": "d64d5c77-8d43-4c6a-f36c-0686a9afb82a"
      },
      "source": [
        "model.predict(X_test)"
      ],
      "execution_count": 22,
      "outputs": [
        {
          "output_type": "execute_result",
          "data": {
            "text/plain": [
              "array([[-0.2567936 ],\n",
              "       [-0.25403175],\n",
              "       [-0.23953229],\n",
              "       [-0.14119902],\n",
              "       [-0.09495074],\n",
              "       [-0.23960346],\n",
              "       [-0.23447084],\n",
              "       [-0.20752436],\n",
              "       [-0.1102192 ],\n",
              "       [-0.0654562 ],\n",
              "       [-0.22222619],\n",
              "       [-0.21709353],\n",
              "       [-0.18667646],\n",
              "       [-0.05688104],\n",
              "       [ 0.00829124],\n",
              "       [-0.20133896],\n",
              "       [-0.18349762],\n",
              "       [-0.18914755],\n",
              "       [-0.16301057],\n",
              "       [-0.24728127],\n",
              "       [-0.20875387],\n",
              "       [-0.19483417],\n",
              "       [-0.18581761],\n",
              "       [-0.19136925],\n",
              "       [-0.16443564],\n",
              "       [-0.15931673],\n",
              "       [-0.15979388],\n",
              "       [-0.1607482 ],\n",
              "       [-0.15762806],\n",
              "       [-0.14412798],\n",
              "       [-0.16982749],\n",
              "       [-0.17149755],\n",
              "       [-0.17105035],\n",
              "       [-0.09490217],\n",
              "       [ 0.08648394],\n",
              "       [ 0.18570758],\n",
              "       [-0.26602137],\n",
              "       [-0.25096944],\n",
              "       [-0.22107238],\n",
              "       [-0.18971464],\n",
              "       [-0.19260873],\n",
              "       [-0.01784888],\n",
              "       [-0.23996523],\n",
              "       [-0.23735394],\n",
              "       [-0.2321313 ],\n",
              "       [-0.22299173],\n",
              "       [-0.20471251],\n",
              "       [-0.01775394],\n",
              "       [ 0.2798409 ],\n",
              "       [-0.22504826],\n",
              "       [-0.29104653],\n",
              "       [-0.19236134],\n",
              "       [-0.18103652],\n",
              "       [-0.16653576],\n",
              "       [-0.16547488],\n",
              "       [-0.18516064],\n",
              "       [-0.165807  ],\n",
              "       [-0.20480882],\n",
              "       [-0.19504514],\n",
              "       [-0.18785948],\n",
              "       [-0.19423658],\n",
              "       [-0.16812436],\n",
              "       [-0.10167436],\n",
              "       [-0.206862  ],\n",
              "       [-0.28828472],\n",
              "       [-0.26430985],\n",
              "       [-0.1986702 ],\n",
              "       [-0.21991558],\n",
              "       [-0.19296911],\n",
              "       [-0.05925106],\n",
              "       [ 0.11120914],\n",
              "       [ 0.329677  ],\n",
              "       [-0.29252446],\n",
              "       [-0.0227728 ],\n",
              "       [ 0.11563192],\n",
              "       [-0.02203448],\n",
              "       [ 0.1298268 ],\n",
              "       [ 0.22905038],\n",
              "       [-0.16887319],\n",
              "       [-0.19733222],\n",
              "       [-0.18154624],\n",
              "       [-0.17056534],\n",
              "       [-0.21080315],\n",
              "       [-0.19071597],\n",
              "       [-0.23163313],\n",
              "       [-0.19183303],\n",
              "       [-0.18050821],\n",
              "       [-0.1983714 ],\n",
              "       [-0.18154624],\n",
              "       [-0.31780696],\n",
              "       [-0.2810846 ],\n",
              "       [-0.19669531],\n",
              "       [-0.02937859],\n",
              "       [ 0.28634608],\n",
              "       [-0.16410953],\n",
              "       [-0.16506383],\n",
              "       [-0.16673389],\n",
              "       [-0.16278705],\n",
              "       [-0.04065338],\n",
              "       [ 0.2148555 ],\n",
              "       [-0.27578303],\n",
              "       [-0.24617761],\n",
              "       [-0.02019794],\n",
              "       [-0.2627944 ],\n",
              "       [-0.1852893 ],\n",
              "       [-0.22798987],\n",
              "       [-0.33594275],\n",
              "       [-0.3362832 ],\n",
              "       [-0.04840809],\n",
              "       [ 0.14369337],\n",
              "       [ 0.00883134],\n",
              "       [-0.07099107],\n",
              "       [ 0.13449608],\n",
              "       [ 0.17472611],\n",
              "       [ 0.02003109],\n",
              "       [-0.1684181 ],\n",
              "       [-0.15825406],\n",
              "       [ 0.08563383],\n",
              "       [-0.07628281],\n",
              "       [-0.04614186],\n",
              "       [-0.07276906],\n",
              "       [-0.02501585],\n",
              "       [-0.02823743],\n",
              "       [-0.0958565 ],\n",
              "       [-0.17631151],\n",
              "       [-0.10675982],\n",
              "       [-0.11059053],\n",
              "       [-0.13038835],\n",
              "       [-0.0116531 ],\n",
              "       [ 0.00159805],\n",
              "       [ 0.0010915 ],\n",
              "       [-0.16885301],\n",
              "       [-0.16872394],\n",
              "       [-0.05838007],\n",
              "       [-0.06089856],\n",
              "       [-0.09388391],\n",
              "       [-0.08538866],\n",
              "       [-0.07727185],\n",
              "       [-0.06562114],\n",
              "       [-0.11968365],\n",
              "       [-0.10027412],\n",
              "       [-0.09672675],\n",
              "       [-0.1086347 ],\n",
              "       [-0.06956793],\n",
              "       [-0.15243885],\n",
              "       [ 0.02353819],\n",
              "       [-0.00704868],\n",
              "       [-0.06529844],\n",
              "       [-0.09895502],\n",
              "       [-0.10904176],\n",
              "       [-0.03144912],\n",
              "       [-0.06578329],\n",
              "       [-0.18349189],\n",
              "       [-0.11468994],\n",
              "       [-0.04211985],\n",
              "       [-0.24679491],\n",
              "       [-0.08923697],\n",
              "       [-0.2018933 ],\n",
              "       [-0.11921638],\n",
              "       [-0.0960059 ],\n",
              "       [-0.04967518],\n",
              "       [-0.0835916 ],\n",
              "       [-0.02199897],\n",
              "       [-0.04806   ],\n",
              "       [-0.07531963],\n",
              "       [ 0.0077313 ],\n",
              "       [-0.09129085],\n",
              "       [-0.01343562],\n",
              "       [-0.13631716],\n",
              "       [-0.07694031],\n",
              "       [ 0.06298728],\n",
              "       [-0.05600782],\n",
              "       [-0.08455921],\n",
              "       [-0.05070299],\n",
              "       [-0.03530437],\n",
              "       [-0.04599819],\n",
              "       [-0.03274553],\n",
              "       [-0.22454438],\n",
              "       [-0.04825975],\n",
              "       [ 0.02080782],\n",
              "       [-0.06762686],\n",
              "       [-0.12176089],\n",
              "       [-0.04698548],\n",
              "       [-0.11338317],\n",
              "       [-0.05843133],\n",
              "       [-0.03761645],\n",
              "       [-0.0826928 ],\n",
              "       [-0.10184208],\n",
              "       [-0.13270736],\n",
              "       [-0.07022439],\n",
              "       [-0.05891407],\n",
              "       [-0.072915  ],\n",
              "       [-0.06552404],\n",
              "       [-0.05452366],\n",
              "       [-0.0374313 ],\n",
              "       [-0.16506451],\n",
              "       [-0.09560086],\n",
              "       [-0.12172956],\n",
              "       [-0.15341738],\n",
              "       [-0.0393203 ],\n",
              "       [-0.09200397],\n",
              "       [-0.11850115],\n",
              "       [-0.02060683],\n",
              "       [-0.07281084],\n",
              "       [-0.04681431],\n",
              "       [-0.02199289],\n",
              "       [-0.02600174],\n",
              "       [-0.09716444],\n",
              "       [-0.13684608],\n",
              "       [-0.04733273],\n",
              "       [-0.09037724],\n",
              "       [-0.10097818],\n",
              "       [-0.12089409],\n",
              "       [-0.16039746],\n",
              "       [-0.10432515],\n",
              "       [-0.18249387],\n",
              "       [-0.11356457],\n",
              "       [-0.04079102],\n",
              "       [-0.23718691],\n",
              "       [-0.0990807 ],\n",
              "       [-0.19895409],\n",
              "       [-0.11955042],\n",
              "       [-0.09694144],\n",
              "       [-0.04904419],\n",
              "       [-0.0738626 ],\n",
              "       [-0.02633041],\n",
              "       [-0.05274692],\n",
              "       [-0.07401238],\n",
              "       [ 0.00924219],\n",
              "       [-0.09409233],\n",
              "       [-0.01428276],\n",
              "       [-0.13670081],\n",
              "       [-0.07809927],\n",
              "       [ 0.05554743],\n",
              "       [-0.06692149],\n",
              "       [-0.08267782],\n",
              "       [-0.04158315],\n",
              "       [-0.02807176],\n",
              "       [-0.05077752],\n",
              "       [-0.02881923],\n",
              "       [-0.22054183],\n",
              "       [-0.04789148],\n",
              "       [ 0.0196916 ],\n",
              "       [-0.06042436],\n",
              "       [-0.11986319],\n",
              "       [-0.04687123],\n",
              "       [-0.11076538],\n",
              "       [-0.05860475],\n",
              "       [-0.0281077 ],\n",
              "       [-0.08262006],\n",
              "       [-0.10127891],\n",
              "       [-0.12515445],\n",
              "       [-0.06414744],\n",
              "       [-0.0564938 ],\n",
              "       [-0.07333124],\n",
              "       [-0.06910267],\n",
              "       [-0.05453807],\n",
              "       [-0.03646573],\n",
              "       [-0.17700012],\n",
              "       [-0.09155203],\n",
              "       [-0.13387632],\n",
              "       [-0.15397882],\n",
              "       [-0.03180484],\n",
              "       [-0.09039803],\n",
              "       [-0.10716436],\n",
              "       [-0.05008727],\n",
              "       [ 0.13851817],\n",
              "       [ 0.01190583],\n",
              "       [-0.08132715],\n",
              "       [ 0.13843332],\n",
              "       [ 0.1762837 ],\n",
              "       [ 0.01992492],\n",
              "       [-0.16361807],\n",
              "       [-0.16081026],\n",
              "       [ 0.08560918],\n",
              "       [-0.06974132],\n",
              "       [-0.04580492],\n",
              "       [-0.07626709],\n",
              "       [-0.03404376],\n",
              "       [-0.03617704],\n",
              "       [-0.09514602],\n",
              "       [-0.18568411],\n",
              "       [-0.11658093],\n",
              "       [-0.10621594],\n",
              "       [-0.12270583],\n",
              "       [-0.01769455],\n",
              "       [-0.00163357],\n",
              "       [ 0.00931045],\n",
              "       [-0.1665857 ],\n",
              "       [-0.18725877],\n",
              "       [-0.05547808],\n",
              "       [-0.06323147],\n",
              "       [-0.09221586],\n",
              "       [-0.0787231 ],\n",
              "       [-0.06558987],\n",
              "       [-0.06926695],\n",
              "       [-0.11868885],\n",
              "       [-0.08956003],\n",
              "       [-0.10232434],\n",
              "       [-0.10908625],\n",
              "       [-0.07002138],\n",
              "       [-0.1543317 ],\n",
              "       [ 0.02577105],\n",
              "       [-0.0105951 ],\n",
              "       [-0.06661959],\n",
              "       [-0.09185553],\n",
              "       [-0.10662293],\n",
              "       [-0.02823406],\n",
              "       [-0.0833837 ]], dtype=float32)"
            ]
          },
          "metadata": {
            "tags": []
          },
          "execution_count": 22
        }
      ]
    }
  ]
}