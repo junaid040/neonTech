{
  "nbformat": 4,
  "nbformat_minor": 0,
  "metadata": {
    "accelerator": "TPU",
    "colab": {
      "name": "fraud_detection.ipynb",
      "provenance": []
    },
    "kernelspec": {
      "display_name": "Python 3",
      "name": "python3"
    },
    "language_info": {
      "name": "python"
    }
  },
  "cells": [
    {
      "cell_type": "code",
      "metadata": {
        "id": "Nf0QO5bxfZLb"
      },
      "source": [
        "import pandas as pd\n",
        "import numpy as np\n",
        "import matplotlib.pyplot as plt"
      ],
      "execution_count": null,
      "outputs": []
    },
    {
      "cell_type": "code",
      "metadata": {
        "id": "L2IE6F4nfiwP"
      },
      "source": [
        "credit_card = pd.read_csv(\"drive/MyDrive/Data/creditcard.csv\")"
      ],
      "execution_count": null,
      "outputs": []
    },
    {
      "cell_type": "code",
      "metadata": {
        "colab": {
          "base_uri": "https://localhost:8080/",
          "height": 426
        },
        "id": "Vgm4mCmXfsok",
        "outputId": "cef22cbc-26d0-4bc4-94ca-dec953a4d048"
      },
      "source": [
        "credit_card"
      ],
      "execution_count": null,
      "outputs": [
        {
          "output_type": "execute_result",
          "data": {
            "text/html": [
              "<div>\n",
              "<style scoped>\n",
              "    .dataframe tbody tr th:only-of-type {\n",
              "        vertical-align: middle;\n",
              "    }\n",
              "\n",
              "    .dataframe tbody tr th {\n",
              "        vertical-align: top;\n",
              "    }\n",
              "\n",
              "    .dataframe thead th {\n",
              "        text-align: right;\n",
              "    }\n",
              "</style>\n",
              "<table border=\"1\" class=\"dataframe\">\n",
              "  <thead>\n",
              "    <tr style=\"text-align: right;\">\n",
              "      <th></th>\n",
              "      <th>Time</th>\n",
              "      <th>V1</th>\n",
              "      <th>V2</th>\n",
              "      <th>V3</th>\n",
              "      <th>V4</th>\n",
              "      <th>V5</th>\n",
              "      <th>V6</th>\n",
              "      <th>V7</th>\n",
              "      <th>V8</th>\n",
              "      <th>V9</th>\n",
              "      <th>V10</th>\n",
              "      <th>V11</th>\n",
              "      <th>V12</th>\n",
              "      <th>V13</th>\n",
              "      <th>V14</th>\n",
              "      <th>V15</th>\n",
              "      <th>V16</th>\n",
              "      <th>V17</th>\n",
              "      <th>V18</th>\n",
              "      <th>V19</th>\n",
              "      <th>V20</th>\n",
              "      <th>V21</th>\n",
              "      <th>V22</th>\n",
              "      <th>V23</th>\n",
              "      <th>V24</th>\n",
              "      <th>V25</th>\n",
              "      <th>V26</th>\n",
              "      <th>V27</th>\n",
              "      <th>V28</th>\n",
              "      <th>Amount</th>\n",
              "      <th>Class</th>\n",
              "    </tr>\n",
              "  </thead>\n",
              "  <tbody>\n",
              "    <tr>\n",
              "      <th>0</th>\n",
              "      <td>0.0</td>\n",
              "      <td>-1.359807</td>\n",
              "      <td>-0.072781</td>\n",
              "      <td>2.536347</td>\n",
              "      <td>1.378155</td>\n",
              "      <td>-0.338321</td>\n",
              "      <td>0.462388</td>\n",
              "      <td>0.239599</td>\n",
              "      <td>0.098698</td>\n",
              "      <td>0.363787</td>\n",
              "      <td>0.090794</td>\n",
              "      <td>-0.551600</td>\n",
              "      <td>-0.617801</td>\n",
              "      <td>-0.991390</td>\n",
              "      <td>-0.311169</td>\n",
              "      <td>1.468177</td>\n",
              "      <td>-0.470401</td>\n",
              "      <td>0.207971</td>\n",
              "      <td>0.025791</td>\n",
              "      <td>0.403993</td>\n",
              "      <td>0.251412</td>\n",
              "      <td>-0.018307</td>\n",
              "      <td>0.277838</td>\n",
              "      <td>-0.110474</td>\n",
              "      <td>0.066928</td>\n",
              "      <td>0.128539</td>\n",
              "      <td>-0.189115</td>\n",
              "      <td>0.133558</td>\n",
              "      <td>-0.021053</td>\n",
              "      <td>149.62</td>\n",
              "      <td>0</td>\n",
              "    </tr>\n",
              "    <tr>\n",
              "      <th>1</th>\n",
              "      <td>0.0</td>\n",
              "      <td>1.191857</td>\n",
              "      <td>0.266151</td>\n",
              "      <td>0.166480</td>\n",
              "      <td>0.448154</td>\n",
              "      <td>0.060018</td>\n",
              "      <td>-0.082361</td>\n",
              "      <td>-0.078803</td>\n",
              "      <td>0.085102</td>\n",
              "      <td>-0.255425</td>\n",
              "      <td>-0.166974</td>\n",
              "      <td>1.612727</td>\n",
              "      <td>1.065235</td>\n",
              "      <td>0.489095</td>\n",
              "      <td>-0.143772</td>\n",
              "      <td>0.635558</td>\n",
              "      <td>0.463917</td>\n",
              "      <td>-0.114805</td>\n",
              "      <td>-0.183361</td>\n",
              "      <td>-0.145783</td>\n",
              "      <td>-0.069083</td>\n",
              "      <td>-0.225775</td>\n",
              "      <td>-0.638672</td>\n",
              "      <td>0.101288</td>\n",
              "      <td>-0.339846</td>\n",
              "      <td>0.167170</td>\n",
              "      <td>0.125895</td>\n",
              "      <td>-0.008983</td>\n",
              "      <td>0.014724</td>\n",
              "      <td>2.69</td>\n",
              "      <td>0</td>\n",
              "    </tr>\n",
              "    <tr>\n",
              "      <th>2</th>\n",
              "      <td>1.0</td>\n",
              "      <td>-1.358354</td>\n",
              "      <td>-1.340163</td>\n",
              "      <td>1.773209</td>\n",
              "      <td>0.379780</td>\n",
              "      <td>-0.503198</td>\n",
              "      <td>1.800499</td>\n",
              "      <td>0.791461</td>\n",
              "      <td>0.247676</td>\n",
              "      <td>-1.514654</td>\n",
              "      <td>0.207643</td>\n",
              "      <td>0.624501</td>\n",
              "      <td>0.066084</td>\n",
              "      <td>0.717293</td>\n",
              "      <td>-0.165946</td>\n",
              "      <td>2.345865</td>\n",
              "      <td>-2.890083</td>\n",
              "      <td>1.109969</td>\n",
              "      <td>-0.121359</td>\n",
              "      <td>-2.261857</td>\n",
              "      <td>0.524980</td>\n",
              "      <td>0.247998</td>\n",
              "      <td>0.771679</td>\n",
              "      <td>0.909412</td>\n",
              "      <td>-0.689281</td>\n",
              "      <td>-0.327642</td>\n",
              "      <td>-0.139097</td>\n",
              "      <td>-0.055353</td>\n",
              "      <td>-0.059752</td>\n",
              "      <td>378.66</td>\n",
              "      <td>0</td>\n",
              "    </tr>\n",
              "    <tr>\n",
              "      <th>3</th>\n",
              "      <td>1.0</td>\n",
              "      <td>-0.966272</td>\n",
              "      <td>-0.185226</td>\n",
              "      <td>1.792993</td>\n",
              "      <td>-0.863291</td>\n",
              "      <td>-0.010309</td>\n",
              "      <td>1.247203</td>\n",
              "      <td>0.237609</td>\n",
              "      <td>0.377436</td>\n",
              "      <td>-1.387024</td>\n",
              "      <td>-0.054952</td>\n",
              "      <td>-0.226487</td>\n",
              "      <td>0.178228</td>\n",
              "      <td>0.507757</td>\n",
              "      <td>-0.287924</td>\n",
              "      <td>-0.631418</td>\n",
              "      <td>-1.059647</td>\n",
              "      <td>-0.684093</td>\n",
              "      <td>1.965775</td>\n",
              "      <td>-1.232622</td>\n",
              "      <td>-0.208038</td>\n",
              "      <td>-0.108300</td>\n",
              "      <td>0.005274</td>\n",
              "      <td>-0.190321</td>\n",
              "      <td>-1.175575</td>\n",
              "      <td>0.647376</td>\n",
              "      <td>-0.221929</td>\n",
              "      <td>0.062723</td>\n",
              "      <td>0.061458</td>\n",
              "      <td>123.50</td>\n",
              "      <td>0</td>\n",
              "    </tr>\n",
              "    <tr>\n",
              "      <th>4</th>\n",
              "      <td>2.0</td>\n",
              "      <td>-1.158233</td>\n",
              "      <td>0.877737</td>\n",
              "      <td>1.548718</td>\n",
              "      <td>0.403034</td>\n",
              "      <td>-0.407193</td>\n",
              "      <td>0.095921</td>\n",
              "      <td>0.592941</td>\n",
              "      <td>-0.270533</td>\n",
              "      <td>0.817739</td>\n",
              "      <td>0.753074</td>\n",
              "      <td>-0.822843</td>\n",
              "      <td>0.538196</td>\n",
              "      <td>1.345852</td>\n",
              "      <td>-1.119670</td>\n",
              "      <td>0.175121</td>\n",
              "      <td>-0.451449</td>\n",
              "      <td>-0.237033</td>\n",
              "      <td>-0.038195</td>\n",
              "      <td>0.803487</td>\n",
              "      <td>0.408542</td>\n",
              "      <td>-0.009431</td>\n",
              "      <td>0.798278</td>\n",
              "      <td>-0.137458</td>\n",
              "      <td>0.141267</td>\n",
              "      <td>-0.206010</td>\n",
              "      <td>0.502292</td>\n",
              "      <td>0.219422</td>\n",
              "      <td>0.215153</td>\n",
              "      <td>69.99</td>\n",
              "      <td>0</td>\n",
              "    </tr>\n",
              "    <tr>\n",
              "      <th>...</th>\n",
              "      <td>...</td>\n",
              "      <td>...</td>\n",
              "      <td>...</td>\n",
              "      <td>...</td>\n",
              "      <td>...</td>\n",
              "      <td>...</td>\n",
              "      <td>...</td>\n",
              "      <td>...</td>\n",
              "      <td>...</td>\n",
              "      <td>...</td>\n",
              "      <td>...</td>\n",
              "      <td>...</td>\n",
              "      <td>...</td>\n",
              "      <td>...</td>\n",
              "      <td>...</td>\n",
              "      <td>...</td>\n",
              "      <td>...</td>\n",
              "      <td>...</td>\n",
              "      <td>...</td>\n",
              "      <td>...</td>\n",
              "      <td>...</td>\n",
              "      <td>...</td>\n",
              "      <td>...</td>\n",
              "      <td>...</td>\n",
              "      <td>...</td>\n",
              "      <td>...</td>\n",
              "      <td>...</td>\n",
              "      <td>...</td>\n",
              "      <td>...</td>\n",
              "      <td>...</td>\n",
              "      <td>...</td>\n",
              "    </tr>\n",
              "    <tr>\n",
              "      <th>284802</th>\n",
              "      <td>172786.0</td>\n",
              "      <td>-11.881118</td>\n",
              "      <td>10.071785</td>\n",
              "      <td>-9.834783</td>\n",
              "      <td>-2.066656</td>\n",
              "      <td>-5.364473</td>\n",
              "      <td>-2.606837</td>\n",
              "      <td>-4.918215</td>\n",
              "      <td>7.305334</td>\n",
              "      <td>1.914428</td>\n",
              "      <td>4.356170</td>\n",
              "      <td>-1.593105</td>\n",
              "      <td>2.711941</td>\n",
              "      <td>-0.689256</td>\n",
              "      <td>4.626942</td>\n",
              "      <td>-0.924459</td>\n",
              "      <td>1.107641</td>\n",
              "      <td>1.991691</td>\n",
              "      <td>0.510632</td>\n",
              "      <td>-0.682920</td>\n",
              "      <td>1.475829</td>\n",
              "      <td>0.213454</td>\n",
              "      <td>0.111864</td>\n",
              "      <td>1.014480</td>\n",
              "      <td>-0.509348</td>\n",
              "      <td>1.436807</td>\n",
              "      <td>0.250034</td>\n",
              "      <td>0.943651</td>\n",
              "      <td>0.823731</td>\n",
              "      <td>0.77</td>\n",
              "      <td>0</td>\n",
              "    </tr>\n",
              "    <tr>\n",
              "      <th>284803</th>\n",
              "      <td>172787.0</td>\n",
              "      <td>-0.732789</td>\n",
              "      <td>-0.055080</td>\n",
              "      <td>2.035030</td>\n",
              "      <td>-0.738589</td>\n",
              "      <td>0.868229</td>\n",
              "      <td>1.058415</td>\n",
              "      <td>0.024330</td>\n",
              "      <td>0.294869</td>\n",
              "      <td>0.584800</td>\n",
              "      <td>-0.975926</td>\n",
              "      <td>-0.150189</td>\n",
              "      <td>0.915802</td>\n",
              "      <td>1.214756</td>\n",
              "      <td>-0.675143</td>\n",
              "      <td>1.164931</td>\n",
              "      <td>-0.711757</td>\n",
              "      <td>-0.025693</td>\n",
              "      <td>-1.221179</td>\n",
              "      <td>-1.545556</td>\n",
              "      <td>0.059616</td>\n",
              "      <td>0.214205</td>\n",
              "      <td>0.924384</td>\n",
              "      <td>0.012463</td>\n",
              "      <td>-1.016226</td>\n",
              "      <td>-0.606624</td>\n",
              "      <td>-0.395255</td>\n",
              "      <td>0.068472</td>\n",
              "      <td>-0.053527</td>\n",
              "      <td>24.79</td>\n",
              "      <td>0</td>\n",
              "    </tr>\n",
              "    <tr>\n",
              "      <th>284804</th>\n",
              "      <td>172788.0</td>\n",
              "      <td>1.919565</td>\n",
              "      <td>-0.301254</td>\n",
              "      <td>-3.249640</td>\n",
              "      <td>-0.557828</td>\n",
              "      <td>2.630515</td>\n",
              "      <td>3.031260</td>\n",
              "      <td>-0.296827</td>\n",
              "      <td>0.708417</td>\n",
              "      <td>0.432454</td>\n",
              "      <td>-0.484782</td>\n",
              "      <td>0.411614</td>\n",
              "      <td>0.063119</td>\n",
              "      <td>-0.183699</td>\n",
              "      <td>-0.510602</td>\n",
              "      <td>1.329284</td>\n",
              "      <td>0.140716</td>\n",
              "      <td>0.313502</td>\n",
              "      <td>0.395652</td>\n",
              "      <td>-0.577252</td>\n",
              "      <td>0.001396</td>\n",
              "      <td>0.232045</td>\n",
              "      <td>0.578229</td>\n",
              "      <td>-0.037501</td>\n",
              "      <td>0.640134</td>\n",
              "      <td>0.265745</td>\n",
              "      <td>-0.087371</td>\n",
              "      <td>0.004455</td>\n",
              "      <td>-0.026561</td>\n",
              "      <td>67.88</td>\n",
              "      <td>0</td>\n",
              "    </tr>\n",
              "    <tr>\n",
              "      <th>284805</th>\n",
              "      <td>172788.0</td>\n",
              "      <td>-0.240440</td>\n",
              "      <td>0.530483</td>\n",
              "      <td>0.702510</td>\n",
              "      <td>0.689799</td>\n",
              "      <td>-0.377961</td>\n",
              "      <td>0.623708</td>\n",
              "      <td>-0.686180</td>\n",
              "      <td>0.679145</td>\n",
              "      <td>0.392087</td>\n",
              "      <td>-0.399126</td>\n",
              "      <td>-1.933849</td>\n",
              "      <td>-0.962886</td>\n",
              "      <td>-1.042082</td>\n",
              "      <td>0.449624</td>\n",
              "      <td>1.962563</td>\n",
              "      <td>-0.608577</td>\n",
              "      <td>0.509928</td>\n",
              "      <td>1.113981</td>\n",
              "      <td>2.897849</td>\n",
              "      <td>0.127434</td>\n",
              "      <td>0.265245</td>\n",
              "      <td>0.800049</td>\n",
              "      <td>-0.163298</td>\n",
              "      <td>0.123205</td>\n",
              "      <td>-0.569159</td>\n",
              "      <td>0.546668</td>\n",
              "      <td>0.108821</td>\n",
              "      <td>0.104533</td>\n",
              "      <td>10.00</td>\n",
              "      <td>0</td>\n",
              "    </tr>\n",
              "    <tr>\n",
              "      <th>284806</th>\n",
              "      <td>172792.0</td>\n",
              "      <td>-0.533413</td>\n",
              "      <td>-0.189733</td>\n",
              "      <td>0.703337</td>\n",
              "      <td>-0.506271</td>\n",
              "      <td>-0.012546</td>\n",
              "      <td>-0.649617</td>\n",
              "      <td>1.577006</td>\n",
              "      <td>-0.414650</td>\n",
              "      <td>0.486180</td>\n",
              "      <td>-0.915427</td>\n",
              "      <td>-1.040458</td>\n",
              "      <td>-0.031513</td>\n",
              "      <td>-0.188093</td>\n",
              "      <td>-0.084316</td>\n",
              "      <td>0.041333</td>\n",
              "      <td>-0.302620</td>\n",
              "      <td>-0.660377</td>\n",
              "      <td>0.167430</td>\n",
              "      <td>-0.256117</td>\n",
              "      <td>0.382948</td>\n",
              "      <td>0.261057</td>\n",
              "      <td>0.643078</td>\n",
              "      <td>0.376777</td>\n",
              "      <td>0.008797</td>\n",
              "      <td>-0.473649</td>\n",
              "      <td>-0.818267</td>\n",
              "      <td>-0.002415</td>\n",
              "      <td>0.013649</td>\n",
              "      <td>217.00</td>\n",
              "      <td>0</td>\n",
              "    </tr>\n",
              "  </tbody>\n",
              "</table>\n",
              "<p>284807 rows × 31 columns</p>\n",
              "</div>"
            ],
            "text/plain": [
              "            Time         V1         V2  ...       V28  Amount  Class\n",
              "0            0.0  -1.359807  -0.072781  ... -0.021053  149.62      0\n",
              "1            0.0   1.191857   0.266151  ...  0.014724    2.69      0\n",
              "2            1.0  -1.358354  -1.340163  ... -0.059752  378.66      0\n",
              "3            1.0  -0.966272  -0.185226  ...  0.061458  123.50      0\n",
              "4            2.0  -1.158233   0.877737  ...  0.215153   69.99      0\n",
              "...          ...        ...        ...  ...       ...     ...    ...\n",
              "284802  172786.0 -11.881118  10.071785  ...  0.823731    0.77      0\n",
              "284803  172787.0  -0.732789  -0.055080  ... -0.053527   24.79      0\n",
              "284804  172788.0   1.919565  -0.301254  ... -0.026561   67.88      0\n",
              "284805  172788.0  -0.240440   0.530483  ...  0.104533   10.00      0\n",
              "284806  172792.0  -0.533413  -0.189733  ...  0.013649  217.00      0\n",
              "\n",
              "[284807 rows x 31 columns]"
            ]
          },
          "metadata": {
            "tags": []
          },
          "execution_count": 4
        }
      ]
    },
    {
      "cell_type": "code",
      "metadata": {
        "colab": {
          "base_uri": "https://localhost:8080/"
        },
        "id": "Zn8j8s2Efz7m",
        "outputId": "cdb0461b-bd93-4546-95e5-e85993260eb4"
      },
      "source": [
        "credit_card.isna().sum()"
      ],
      "execution_count": null,
      "outputs": [
        {
          "output_type": "execute_result",
          "data": {
            "text/plain": [
              "Time      0\n",
              "V1        0\n",
              "V2        0\n",
              "V3        0\n",
              "V4        0\n",
              "V5        0\n",
              "V6        0\n",
              "V7        0\n",
              "V8        0\n",
              "V9        0\n",
              "V10       0\n",
              "V11       0\n",
              "V12       0\n",
              "V13       0\n",
              "V14       0\n",
              "V15       0\n",
              "V16       0\n",
              "V17       0\n",
              "V18       0\n",
              "V19       0\n",
              "V20       0\n",
              "V21       0\n",
              "V22       0\n",
              "V23       0\n",
              "V24       0\n",
              "V25       0\n",
              "V26       0\n",
              "V27       0\n",
              "V28       0\n",
              "Amount    0\n",
              "Class     0\n",
              "dtype: int64"
            ]
          },
          "metadata": {
            "tags": []
          },
          "execution_count": 5
        }
      ]
    },
    {
      "cell_type": "code",
      "metadata": {
        "colab": {
          "base_uri": "https://localhost:8080/"
        },
        "id": "BGQ2R3kkf67R",
        "outputId": "3b41294e-fe04-4e77-a90c-5741e8d9db55"
      },
      "source": [
        "credit_card.dtypes"
      ],
      "execution_count": null,
      "outputs": [
        {
          "output_type": "execute_result",
          "data": {
            "text/plain": [
              "Time      float64\n",
              "V1        float64\n",
              "V2        float64\n",
              "V3        float64\n",
              "V4        float64\n",
              "V5        float64\n",
              "V6        float64\n",
              "V7        float64\n",
              "V8        float64\n",
              "V9        float64\n",
              "V10       float64\n",
              "V11       float64\n",
              "V12       float64\n",
              "V13       float64\n",
              "V14       float64\n",
              "V15       float64\n",
              "V16       float64\n",
              "V17       float64\n",
              "V18       float64\n",
              "V19       float64\n",
              "V20       float64\n",
              "V21       float64\n",
              "V22       float64\n",
              "V23       float64\n",
              "V24       float64\n",
              "V25       float64\n",
              "V26       float64\n",
              "V27       float64\n",
              "V28       float64\n",
              "Amount    float64\n",
              "Class       int64\n",
              "dtype: object"
            ]
          },
          "metadata": {
            "tags": []
          },
          "execution_count": 6
        }
      ]
    },
    {
      "cell_type": "code",
      "metadata": {
        "id": "tKaZSffugAWL"
      },
      "source": [
        "X = credit_card.drop('Class', axis = 1)\n",
        "y = credit_card['Class']"
      ],
      "execution_count": null,
      "outputs": []
    },
    {
      "cell_type": "code",
      "metadata": {
        "id": "-zjX4LZAgWGD"
      },
      "source": [
        "# Split the data into train, validation & test sets\n",
        "train_split = round(0.5 * len(credit_card)) # 50% of data\n",
        "valid_split = round(train_split + 0.2 * len(credit_card)) # 20% of data\n",
        "X_train, y_train = X[:train_split], y[:train_split]\n",
        "X_valid, y_valid = X[train_split:valid_split], y[train_split:valid_split]\n",
        "X_test, y_test = X[valid_split:], y[valid_split:]"
      ],
      "execution_count": null,
      "outputs": []
    },
    {
      "cell_type": "code",
      "metadata": {
        "id": "mJ2AykibggHk"
      },
      "source": [
        "# normalization\n",
        "mean = X_train.mean(axis=0)\n",
        "X_train -= mean\n",
        "\n",
        "std = X_train.std(axis=0)\n",
        "\n",
        "X_train /= std\n",
        "X_test -= mean\n",
        "X_test /= std\n",
        "X_valid -= mean\n",
        "X_valid /= std"
      ],
      "execution_count": null,
      "outputs": []
    },
    {
      "cell_type": "code",
      "metadata": {
        "colab": {
          "base_uri": "https://localhost:8080/"
        },
        "id": "1q_88dsCgsQp",
        "outputId": "9c924943-1744-4a93-9af7-13544b81c1bc"
      },
      "source": [
        "len(X_train),len(y_train)"
      ],
      "execution_count": null,
      "outputs": [
        {
          "output_type": "execute_result",
          "data": {
            "text/plain": [
              "(142404, 142404)"
            ]
          },
          "metadata": {
            "tags": []
          },
          "execution_count": 10
        }
      ]
    },
    {
      "cell_type": "code",
      "metadata": {
        "id": "16tBLR2ggj6V"
      },
      "source": [
        "from tensorflow.keras import models\n",
        "from tensorflow.keras import layers\n",
        "\n",
        "model = models.Sequential()\n",
        "model.add(layers.Dense(16, activation='relu', input_shape=(X_train.shape[1],)))\n",
        "model.add(layers.Dense(16, activation='relu'))\n",
        "model.add(layers.Dense(1, activation='sigmoid'))"
      ],
      "execution_count": null,
      "outputs": []
    },
    {
      "cell_type": "code",
      "metadata": {
        "id": "SZI25Bk9hGNU"
      },
      "source": [
        "from keras import models\n",
        "from keras import layers\n",
        "model = models.Sequential()\n",
        "def build_model(fun):\n",
        "    model.add(layers.Dense(10, activation=fun, input_shape=(X_train.shape[1],)))\n",
        "    model.add(layers.Dense(8, activation=fun))\n",
        "    model.add(layers.Dense(6, activation=fun))\n",
        "    model.add(layers.Dense(1, activation='sigmoid'))\n",
        "    model.compile(optimizer='rmsprop',loss='binary_crossentropy',metrics=['accuracy'])\n",
        "    return model"
      ],
      "execution_count": null,
      "outputs": []
    },
    {
      "cell_type": "code",
      "metadata": {
        "colab": {
          "base_uri": "https://localhost:8080/"
        },
        "id": "R4Lbu9qshgek",
        "outputId": "13a14802-b021-46d1-dead-a09186ef9462"
      },
      "source": [
        "build_model('relu').summary()"
      ],
      "execution_count": null,
      "outputs": [
        {
          "output_type": "stream",
          "text": [
            "Model: \"sequential_1\"\n",
            "_________________________________________________________________\n",
            "Layer (type)                 Output Shape              Param #   \n",
            "=================================================================\n",
            "dense_3 (Dense)              (None, 10)                310       \n",
            "_________________________________________________________________\n",
            "dense_4 (Dense)              (None, 8)                 88        \n",
            "_________________________________________________________________\n",
            "dense_5 (Dense)              (None, 6)                 54        \n",
            "_________________________________________________________________\n",
            "dense_6 (Dense)              (None, 1)                 7         \n",
            "=================================================================\n",
            "Total params: 459\n",
            "Trainable params: 459\n",
            "Non-trainable params: 0\n",
            "_________________________________________________________________\n"
          ],
          "name": "stdout"
        }
      ]
    },
    {
      "cell_type": "code",
      "metadata": {
        "id": "oSSZupG2iObv"
      },
      "source": [
        "import tensorflow as tf\n",
        "partial_x_train = tf.constant(X_train)\n",
        "partial_y_train = tf.constant(y_train)\n",
        "partial_x_valid = tf.constant(X_valid)\n",
        "partial_y_valid = tf.constant(y_valid)"
      ],
      "execution_count": null,
      "outputs": []
    },
    {
      "cell_type": "code",
      "metadata": {
        "id": "DD_KGtbWh5k6"
      },
      "source": [
        "model = build_model('relu')\n",
        "history = model.fit(partial_x_train[:5000], partial_y_train[:5000],\n",
        "                    validation_data=(partial_x_valid[:3000], partial_y_valid[:3000]),\n",
        "                    epochs=100, batch_size=1, verbose=0)"
      ],
      "execution_count": null,
      "outputs": []
    },
    {
      "cell_type": "code",
      "metadata": {
        "colab": {
          "base_uri": "https://localhost:8080/"
        },
        "id": "PLe9PiQ7yMDa",
        "outputId": "cccb78f8-1cd3-4008-f489-934bf2cea739"
      },
      "source": [
        "history.history['val_loss']"
      ],
      "execution_count": null,
      "outputs": [
        {
          "output_type": "execute_result",
          "data": {
            "text/plain": [
              "[0.08453294634819031,\n",
              " 0.08510572463274002,\n",
              " 0.08343107998371124,\n",
              " 0.08410252630710602,\n",
              " 0.08348763734102249,\n",
              " 0.08179918676614761,\n",
              " 0.08209194242954254,\n",
              " 0.08155754953622818,\n",
              " 0.08024127036333084,\n",
              " 0.07952147722244263,\n",
              " 0.07890915125608444,\n",
              " 0.07787256687879562,\n",
              " 0.07610999792814255,\n",
              " 0.07602794468402863,\n",
              " 0.07594645768404007,\n",
              " 0.07620619237422943,\n",
              " 0.07487640529870987,\n",
              " 0.07423211634159088,\n",
              " 0.07303328812122345,\n",
              " 0.0718500167131424,\n",
              " 0.07117192447185516,\n",
              " 0.07050342112779617,\n",
              " 0.06875542551279068,\n",
              " 0.06673773378133774,\n",
              " 0.0654786229133606,\n",
              " 0.06319860368967056,\n",
              " 0.06168174743652344,\n",
              " 0.05933425948023796,\n",
              " 0.05787511542439461,\n",
              " 0.05729835107922554,\n",
              " 0.05418819189071655,\n",
              " 0.05270214378833771,\n",
              " 0.051640111953020096,\n",
              " 0.051568735390901566,\n",
              " 0.0522201806306839,\n",
              " 0.05065970495343208,\n",
              " 0.04961481690406799,\n",
              " 0.04811004549264908,\n",
              " 0.048239871859550476,\n",
              " 0.047457825392484665,\n",
              " 0.04623905569314957,\n",
              " 0.04576609656214714,\n",
              " 0.045524902641773224,\n",
              " 0.0458410270512104,\n",
              " 0.04630475863814354,\n",
              " 0.046557702124118805,\n",
              " 0.045879922807216644,\n",
              " 0.04530010372400284,\n",
              " 0.04503994807600975,\n",
              " 0.04511695355176926,\n",
              " 0.04591204226016998,\n",
              " 0.04497597739100456,\n",
              " 0.044521525502204895,\n",
              " 0.04499410465359688,\n",
              " 0.044794440269470215,\n",
              " 0.043803513050079346,\n",
              " 0.04484989494085312,\n",
              " 0.044599924236536026,\n",
              " 0.0456126369535923,\n",
              " 0.045465465635061264,\n",
              " 0.04435405507683754,\n",
              " 0.04500427842140198,\n",
              " 0.04403948038816452,\n",
              " 0.04505925625562668,\n",
              " 0.04487571120262146,\n",
              " 0.04539309814572334,\n",
              " 0.04497971758246422,\n",
              " 0.04446787387132645,\n",
              " 0.04371614009141922,\n",
              " 0.044773418456315994,\n",
              " 0.04430834576487541,\n",
              " 0.04469223693013191,\n",
              " 0.04436309263110161,\n",
              " 0.045151665806770325,\n",
              " 0.043813325464725494,\n",
              " 0.04407684877514839,\n",
              " 0.043927017599344254,\n",
              " 0.0439232774078846,\n",
              " 0.04406994953751564,\n",
              " 0.04345449432730675,\n",
              " 0.04304738715291023,\n",
              " 0.043535005301237106,\n",
              " 0.043525487184524536,\n",
              " 0.04454459995031357,\n",
              " 0.04507191851735115,\n",
              " 0.044412460178136826,\n",
              " 0.04500409960746765,\n",
              " 0.043254271149635315,\n",
              " 0.04329327866435051,\n",
              " 0.042457591742277145,\n",
              " 0.0427083857357502,\n",
              " 0.04294436052441597,\n",
              " 0.04377996176481247,\n",
              " 0.043515097349882126,\n",
              " 0.04206235334277153,\n",
              " 0.042627133429050446,\n",
              " 0.042930968105793,\n",
              " 0.04260357469320297,\n",
              " 0.041925057768821716,\n",
              " 0.04183053970336914]"
            ]
          },
          "metadata": {
            "tags": []
          },
          "execution_count": 16
        }
      ]
    },
    {
      "cell_type": "code",
      "metadata": {
        "colab": {
          "base_uri": "https://localhost:8080/"
        },
        "id": "rz7f3HUnij7-",
        "outputId": "79c223ef-5d3d-440f-83ae-ac18c4960116"
      },
      "source": [
        "history.history['val_accuracy']"
      ],
      "execution_count": null,
      "outputs": [
        {
          "output_type": "execute_result",
          "data": {
            "text/plain": [
              "[0.9959999918937683,\n",
              " 0.9959999918937683,\n",
              " 0.9959999918937683,\n",
              " 0.9959999918937683,\n",
              " 0.9959999918937683,\n",
              " 0.9959999918937683,\n",
              " 0.9959999918937683,\n",
              " 0.9959999918937683,\n",
              " 0.9959999918937683,\n",
              " 0.9959999918937683,\n",
              " 0.9959999918937683,\n",
              " 0.9959999918937683,\n",
              " 0.9959999918937683,\n",
              " 0.9959999918937683,\n",
              " 0.9959999918937683,\n",
              " 0.9959999918937683,\n",
              " 0.9959999918937683,\n",
              " 0.9959999918937683,\n",
              " 0.9959999918937683,\n",
              " 0.9959999918937683,\n",
              " 0.9959999918937683,\n",
              " 0.9959999918937683,\n",
              " 0.9959999918937683,\n",
              " 0.9959999918937683,\n",
              " 0.9959999918937683,\n",
              " 0.9959999918937683,\n",
              " 0.9959999918937683,\n",
              " 0.9959999918937683,\n",
              " 0.9959999918937683,\n",
              " 0.9959999918937683,\n",
              " 0.9959999918937683,\n",
              " 0.9959999918937683,\n",
              " 0.9959999918937683,\n",
              " 0.9959999918937683,\n",
              " 0.9959999918937683,\n",
              " 0.9959999918937683,\n",
              " 0.9959999918937683,\n",
              " 0.9959999918937683,\n",
              " 0.9959999918937683,\n",
              " 0.9959999918937683,\n",
              " 0.9959999918937683,\n",
              " 0.9959999918937683,\n",
              " 0.9959999918937683,\n",
              " 0.9959999918937683,\n",
              " 0.9959999918937683,\n",
              " 0.9959999918937683,\n",
              " 0.9959999918937683,\n",
              " 0.9959999918937683,\n",
              " 0.9959999918937683,\n",
              " 0.9959999918937683,\n",
              " 0.9959999918937683,\n",
              " 0.9959999918937683,\n",
              " 0.9959999918937683,\n",
              " 0.9959999918937683,\n",
              " 0.9959999918937683,\n",
              " 0.9959999918937683,\n",
              " 0.9959999918937683,\n",
              " 0.9959999918937683,\n",
              " 0.9959999918937683,\n",
              " 0.9959999918937683,\n",
              " 0.9959999918937683,\n",
              " 0.9959999918937683,\n",
              " 0.9959999918937683,\n",
              " 0.9959999918937683,\n",
              " 0.9959999918937683,\n",
              " 0.9959999918937683,\n",
              " 0.9959999918937683,\n",
              " 0.9959999918937683,\n",
              " 0.9959999918937683,\n",
              " 0.9959999918937683,\n",
              " 0.9959999918937683,\n",
              " 0.9959999918937683,\n",
              " 0.9959999918937683,\n",
              " 0.9959999918937683,\n",
              " 0.9959999918937683,\n",
              " 0.9959999918937683,\n",
              " 0.9959999918937683,\n",
              " 0.9959999918937683,\n",
              " 0.9959999918937683,\n",
              " 0.9959999918937683,\n",
              " 0.9959999918937683,\n",
              " 0.9959999918937683,\n",
              " 0.9959999918937683,\n",
              " 0.9959999918937683,\n",
              " 0.9959999918937683,\n",
              " 0.9959999918937683,\n",
              " 0.9959999918937683,\n",
              " 0.9959999918937683,\n",
              " 0.9959999918937683,\n",
              " 0.9959999918937683,\n",
              " 0.9959999918937683,\n",
              " 0.9959999918937683,\n",
              " 0.9959999918937683,\n",
              " 0.9959999918937683,\n",
              " 0.9959999918937683,\n",
              " 0.9959999918937683,\n",
              " 0.9959999918937683,\n",
              " 0.9959999918937683,\n",
              " 0.9959999918937683,\n",
              " 0.9959999918937683]"
            ]
          },
          "metadata": {
            "tags": []
          },
          "execution_count": 17
        }
      ]
    },
    {
      "cell_type": "code",
      "metadata": {
        "colab": {
          "base_uri": "https://localhost:8080/",
          "height": 295
        },
        "id": "4Z2Go5JkkkE2",
        "outputId": "611271e7-a3f6-4cbd-f998-9f9db43d811a"
      },
      "source": [
        "import matplotlib.pyplot as plt\n",
        "\n",
        "loss = history.history['loss']\n",
        "val_loss = history.history['val_loss']\n",
        "\n",
        "epochs = range(1, len(loss) + 1)\n",
        "\n",
        "plt.plot(epochs, loss, 'bo', label='Training loss')\n",
        "plt.plot(epochs, val_loss, 'b', label='Validation loss')\n",
        "plt.title('Training and validation loss')\n",
        "plt.xlabel('Epochs')\n",
        "plt.ylabel('Loss')\n",
        "plt.legend()\n",
        "plt.show()"
      ],
      "execution_count": null,
      "outputs": [
        {
          "output_type": "display_data",
          "data": {
            "image/png": "[encoded data removed]",
            "text/plain": [
              "<Figure size 432x288 with 1 Axes>"
            ]
          },
          "metadata": {
            "tags": [],
            "needs_background": "light"
          }
        }
      ]
    },
    {
      "cell_type": "code",
      "metadata": {
        "id": "yJDJwpw7oD1I"
      },
      "source": [
        "model = build_model('relu')\n",
        "history = model.fit(partial_x_train[:5000], partial_y_train[:5000],\n",
        "                    validation_data=(partial_x_valid[:3000], partial_y_valid[:3000]),\n",
        "                    epochs=42, batch_size=1, verbose=0)"
      ],
      "execution_count": null,
      "outputs": []
    },
    {
      "cell_type": "code",
      "metadata": {
        "colab": {
          "base_uri": "https://localhost:8080/",
          "height": 295
        },
        "id": "7W4N4TF5lIGn",
        "outputId": "a6c2ca16-fbf6-4dce-a831-c01deaa5ecfd"
      },
      "source": [
        " import matplotlib.pyplot as plt\n",
        "\n",
        "loss = history.history['loss']\n",
        "val_loss = history.history['val_loss']\n",
        "\n",
        "epochs = range(1, len(loss) + 1)\n",
        "\n",
        "plt.plot(epochs, loss, 'bo', label='Training loss')\n",
        "plt.plot(epochs, val_loss, 'b', label='Validation loss')\n",
        "plt.title('Training and validation loss')\n",
        "plt.xlabel('Epochs')\n",
        "plt.ylabel('Loss')\n",
        "plt.legend()\n",
        "plt.show()"
      ],
      "execution_count": null,
      "outputs": [
        {
          "output_type": "display_data",
          "data": {
            "image/png": "[encoded data removed]",
            "text/plain": [
              "<Figure size 432x288 with 1 Axes>"
            ]
          },
          "metadata": {
            "tags": [],
            "needs_background": "light"
          }
        }
      ]
    },
    {
      "cell_type": "code",
      "metadata": {
        "colab": {
          "base_uri": "https://localhost:8080/"
        },
        "id": "Dubko_2xtwYV",
        "outputId": "f3f28859-c1dc-47eb-c376-0af864e0a39e"
      },
      "source": [
        "history.history['val_loss'],history.history['loss']"
      ],
      "execution_count": null,
      "outputs": [
        {
          "output_type": "execute_result",
          "data": {
            "text/plain": [
              "([0.02704244665801525,\n",
              "  0.038721803575754166,\n",
              "  0.05558792129158974,\n",
              "  0.06632727384567261,\n",
              "  0.07065605372190475,\n",
              "  0.07290501147508621,\n",
              "  0.07453479617834091,\n",
              "  0.07559496909379959,\n",
              "  0.07643455266952515,\n",
              "  0.07712847739458084,\n",
              "  0.07776586711406708,\n",
              "  0.07830311357975006,\n",
              "  0.07871628552675247,\n",
              "  0.07911626994609833,\n",
              "  0.07947582751512527,\n",
              "  0.07980591058731079,\n",
              "  0.0801079124212265,\n",
              "  0.08038653433322906,\n",
              "  0.08064036071300507,\n",
              "  0.08088713884353638,\n",
              "  0.08111187815666199,\n",
              "  0.0813288614153862,\n",
              "  0.08152345567941666,\n",
              "  0.08170715719461441,\n",
              "  0.08191163837909698,\n",
              "  0.08207331597805023,\n",
              "  0.08222422748804092,\n",
              "  0.08237617462873459,\n",
              "  0.08252759277820587,\n",
              "  0.0826810896396637,\n",
              "  0.08280187845230103,\n",
              "  0.08292432129383087,\n",
              "  0.0830477923154831,\n",
              "  0.08318894356489182,\n",
              "  0.08330877125263214,\n",
              "  0.08342814445495605,\n",
              "  0.08353198319673538,\n",
              "  0.08362102508544922,\n",
              "  0.08371003717184067,\n",
              "  0.08379894495010376,\n",
              "  0.08388768136501312,\n",
              "  0.08398447930812836],\n",
              " [0.16513243317604065,\n",
              "  0.005161795765161514,\n",
              "  0.00758706871420145,\n",
              "  0.009837549179792404,\n",
              "  0.010349610820412636,\n",
              "  0.010727981105446815,\n",
              "  0.01095350831747055,\n",
              "  0.011241764761507511,\n",
              "  0.011394093744456768,\n",
              "  0.011507994495332241,\n",
              "  0.011611253023147583,\n",
              "  0.011732323095202446,\n",
              "  0.0117869321256876,\n",
              "  0.011859291233122349,\n",
              "  0.011896587908267975,\n",
              "  0.011930601671338081,\n",
              "  0.01198743935674429,\n",
              "  0.012039017863571644,\n",
              "  0.012075372040271759,\n",
              "  0.012108910828828812,\n",
              "  0.012162210419774055,\n",
              "  0.012179212644696236,\n",
              "  0.012216874398291111,\n",
              "  0.012249565683305264,\n",
              "  0.012283900752663612,\n",
              "  0.012299865484237671,\n",
              "  0.012329277582466602,\n",
              "  0.012346386909484863,\n",
              "  0.012376204133033752,\n",
              "  0.012388795614242554,\n",
              "  0.012413273565471172,\n",
              "  0.012432537972927094,\n",
              "  0.012443485669791698,\n",
              "  0.012467577122151852,\n",
              "  0.012489315122365952,\n",
              "  0.012507789768278599,\n",
              "  0.01252093818038702,\n",
              "  0.012540115043520927,\n",
              "  0.012545379810035229,\n",
              "  0.01256351638585329,\n",
              "  0.012581653892993927,\n",
              "  0.012596904300153255])"
            ]
          },
          "metadata": {
            "tags": []
          },
          "execution_count": 28
        }
      ]
    },
    {
      "cell_type": "code",
      "metadata": {
        "colab": {
          "base_uri": "https://localhost:8080/"
        },
        "id": "YmNyQ2DoucSX",
        "outputId": "a2370f0f-5a98-4261-d7a3-6634d42c3ecd"
      },
      "source": [
        "test_loss,test_acu = model.evaluate(X_test, y_test)"
      ],
      "execution_count": null,
      "outputs": [
        {
          "output_type": "stream",
          "text": [
            "2671/2671 [==============================] - 5s 2ms/step - loss: 0.0265 - accuracy: 0.9987\n"
          ],
          "name": "stdout"
        }
      ]
    },
    {
      "cell_type": "code",
      "metadata": {
        "colab": {
          "base_uri": "https://localhost:8080/"
        },
        "id": "7IS2lyqUvjt9",
        "outputId": "2562d09e-aad6-4e13-8089-391b123cefb2"
      },
      "source": [
        "model.predict(X_test)"
      ],
      "execution_count": null,
      "outputs": [
        {
          "output_type": "execute_result",
          "data": {
            "text/plain": [
              "array([[7.612064e-10],\n",
              "       [7.612064e-10],\n",
              "       [7.612064e-10],\n",
              "       ...,\n",
              "       [7.612064e-10],\n",
              "       [7.612064e-10],\n",
              "       [7.612064e-10]], dtype=float32)"
            ]
          },
          "metadata": {
            "tags": []
          },
          "execution_count": 31
        }
      ]
    }
  ]
}