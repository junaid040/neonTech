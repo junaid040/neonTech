{
  "nbformat": 4,
  "nbformat_minor": 0,
  "metadata": {
    "colab": {
      "name": "Untitled1.ipynb",
      "provenance": []
    },
    "kernelspec": {
      "name": "python3",
      "display_name": "Python 3"
    }
  },
  "cells": [
    {
      "cell_type": "code",
      "metadata": {
        "colab": {
          "base_uri": "https://localhost:8080/"
        },
        "id": "1p07_rmXu5ZK",
        "outputId": "3a47dbbc-06bd-42c7-a499-2f98f23331a3"
      },
      "source": [
        "from tensorflow.keras.datasets import fashion_mnist\r\n",
        "(train_images,train_lables),(test_images,test_lables) = fashion_mnist.load_data()"
      ],
      "execution_count": 1,
      "outputs": [
        {
          "output_type": "stream",
          "text": [
            "Downloading data from https://storage.googleapis.com/tensorflow/tf-keras-datasets/train-labels-idx1-ubyte.gz\n",
            "32768/29515 [=================================] - 0s 0us/step\n",
            "Downloading data from https://storage.googleapis.com/tensorflow/tf-keras-datasets/train-images-idx3-ubyte.gz\n",
            "26427392/26421880 [==============================] - 1s 0us/step\n",
            "Downloading data from https://storage.googleapis.com/tensorflow/tf-keras-datasets/t10k-labels-idx1-ubyte.gz\n",
            "8192/5148 [===============================================] - 0s 0us/step\n",
            "Downloading data from https://storage.googleapis.com/tensorflow/tf-keras-datasets/t10k-images-idx3-ubyte.gz\n",
            "4423680/4422102 [==============================] - 0s 0us/step\n"
          ],
          "name": "stdout"
        }
      ]
    },
    {
      "cell_type": "code",
      "metadata": {
        "colab": {
          "base_uri": "https://localhost:8080/"
        },
        "id": "oSOdVwPuu9Xp",
        "outputId": "24560183-aed3-4084-e259-ad937d42ae1b"
      },
      "source": [
        "print(len(train_lables))\r\n",
        "print(len(train_images))"
      ],
      "execution_count": 2,
      "outputs": [
        {
          "output_type": "stream",
          "text": [
            "60000\n",
            "60000\n"
          ],
          "name": "stdout"
        }
      ]
    },
    {
      "cell_type": "code",
      "metadata": {
        "colab": {
          "base_uri": "https://localhost:8080/"
        },
        "id": "w1f8JDLAvAZn",
        "outputId": "8048f029-307e-4677-c87b-a10df98a69c0"
      },
      "source": [
        "print(len(test_lables))\r\n",
        "print(len(test_images))"
      ],
      "execution_count": 3,
      "outputs": [
        {
          "output_type": "stream",
          "text": [
            "10000\n",
            "10000\n"
          ],
          "name": "stdout"
        }
      ]
    },
    {
      "cell_type": "code",
      "metadata": {
        "colab": {
          "base_uri": "https://localhost:8080/"
        },
        "id": "831i7wshvEXJ",
        "outputId": "a60902ff-77d2-45f5-9777-9b407331b8ef"
      },
      "source": [
        "print(test_images.shape)\r\n",
        "print(train_images.shape)"
      ],
      "execution_count": 4,
      "outputs": [
        {
          "output_type": "stream",
          "text": [
            "(10000, 28, 28)\n",
            "(60000, 28, 28)\n"
          ],
          "name": "stdout"
        }
      ]
    },
    {
      "cell_type": "code",
      "metadata": {
        "colab": {
          "base_uri": "https://localhost:8080/",
          "height": 282
        },
        "id": "WIRGT2V_vJga",
        "outputId": "473ac6b9-6eb4-45e2-c0ac-9bf9af0cc66a"
      },
      "source": [
        "import matplotlib.pyplot as plt\r\n",
        "digit = train_images[0]\r\n",
        "print(\"class_lable:\",train_lables[0])\r\n",
        "plt.imshow(digit, cmap = plt.cm.binary)\r\n",
        "plt.show()"
      ],
      "execution_count": 5,
      "outputs": [
        {
          "output_type": "stream",
          "text": [
            "class_lable: 9\n"
          ],
          "name": "stdout"
        },
        {
          "output_type": "display_data",
          "data": {
            "image/png": "[encoded data removed]",
            "text/plain": [
              "<Figure size 432x288 with 1 Axes>"
            ]
          },
          "metadata": {
            "tags": [],
            "needs_background": "light"
          }
        }
      ]
    },
    {
      "cell_type": "code",
      "metadata": {
        "colab": {
          "base_uri": "https://localhost:8080/",
          "height": 282
        },
        "id": "_VjGVyVqvSFP",
        "outputId": "67e353e9-d04a-499c-ba9a-61097ff82e9e"
      },
      "source": [
        "digit_test = test_images[0]\r\n",
        "print(\"class_lable:\",test_lables[0])\r\n",
        "plt.imshow(digit_test, cmap = plt.cm.binary)\r\n",
        "plt.show()"
      ],
      "execution_count": 6,
      "outputs": [
        {
          "output_type": "stream",
          "text": [
            "class_lable: 9\n"
          ],
          "name": "stdout"
        },
        {
          "output_type": "display_data",
          "data": {
            "image/png": "[encoded data removed]",
            "text/plain": [
              "<Figure size 432x288 with 1 Axes>"
            ]
          },
          "metadata": {
            "tags": [],
            "needs_background": "light"
          }
        }
      ]
    },
    {
      "cell_type": "code",
      "metadata": {
        "colab": {
          "base_uri": "https://localhost:8080/"
        },
        "id": "19uKHU5QvT6d",
        "outputId": "5d752180-8f2d-466f-c42b-526f3e79dd70"
      },
      "source": [
        "import numpy as np\r\n",
        "len(np.unique(train_lables))"
      ],
      "execution_count": 7,
      "outputs": [
        {
          "output_type": "execute_result",
          "data": {
            "text/plain": [
              "10"
            ]
          },
          "metadata": {
            "tags": []
          },
          "execution_count": 7
        }
      ]
    },
    {
      "cell_type": "code",
      "metadata": {
        "id": "Igu8HbD0vgeL"
      },
      "source": [
        "from tensorflow.keras import models\r\n",
        "from tensorflow.keras import layers\r\n",
        "network = models.Sequential()\r\n",
        "\r\n",
        "network.add(layers.Dense(512, activation = 'relu', input_shape = (28*28, )))\r\n",
        "network.add(layers.Dense(10, activation = 'softmax'))"
      ],
      "execution_count": 9,
      "outputs": []
    },
    {
      "cell_type": "code",
      "metadata": {
        "id": "6VI6Gdw0vZC9"
      },
      "source": [
        "network.compile(optimizer='rmsprop',loss = 'categorical_crossentropy',metrics = ['accuracy'])"
      ],
      "execution_count": 10,
      "outputs": []
    },
    {
      "cell_type": "code",
      "metadata": {
        "id": "VHOmJh18vkyU"
      },
      "source": [
        "train_images = train_images.reshape(60000,28*28)\r\n",
        "train_images = train_images.astype('float32')/225"
      ],
      "execution_count": 11,
      "outputs": []
    },
    {
      "cell_type": "code",
      "metadata": {
        "id": "IV6lm0kSvqxO"
      },
      "source": [
        "test_images = test_images.reshape(10000,28*28)\r\n",
        "test_images = test_images.astype('float32')/225"
      ],
      "execution_count": 12,
      "outputs": []
    },
    {
      "cell_type": "code",
      "metadata": {
        "colab": {
          "base_uri": "https://localhost:8080/"
        },
        "id": "lHu6dbsEvufz",
        "outputId": "89af4c5c-fe9e-42bf-b3ac-30b8646c7bd8"
      },
      "source": [
        "train_images[0]"
      ],
      "execution_count": 13,
      "outputs": [
        {
          "output_type": "execute_result",
          "data": {
            "text/plain": [
              "array([0.        , 0.        , 0.        , 0.        , 0.        ,\n",
              "       0.        , 0.        , 0.        , 0.        , 0.        ,\n",
              "       0.        , 0.        , 0.        , 0.        , 0.        ,\n",
              "       0.        , 0.        , 0.        , 0.        , 0.        ,\n",
              "       0.        , 0.        , 0.        , 0.        , 0.        ,\n",
              "       0.        , 0.        , 0.        , 0.        , 0.        ,\n",
              "       0.        , 0.        , 0.        , 0.        , 0.        ,\n",
              "       0.        , 0.        , 0.        , 0.        , 0.        ,\n",
              "       0.        , 0.        , 0.        , 0.        , 0.        ,\n",
              "       0.        , 0.        , 0.        , 0.        , 0.        ,\n",
              "       0.        , 0.        , 0.        , 0.        , 0.        ,\n",
              "       0.        , 0.        , 0.        , 0.        , 0.        ,\n",
              "       0.        , 0.        , 0.        , 0.        , 0.        ,\n",
              "       0.        , 0.        , 0.        , 0.        , 0.        ,\n",
              "       0.        , 0.        , 0.        , 0.        , 0.        ,\n",
              "       0.        , 0.        , 0.        , 0.        , 0.        ,\n",
              "       0.        , 0.        , 0.        , 0.        , 0.        ,\n",
              "       0.        , 0.        , 0.        , 0.        , 0.        ,\n",
              "       0.        , 0.        , 0.        , 0.        , 0.        ,\n",
              "       0.        , 0.00444444, 0.        , 0.        , 0.05777778,\n",
              "       0.32444444, 0.        , 0.        , 0.00444444, 0.01777778,\n",
              "       0.        , 0.        , 0.        , 0.        , 0.00444444,\n",
              "       0.00444444, 0.        , 0.        , 0.        , 0.        ,\n",
              "       0.        , 0.        , 0.        , 0.        , 0.        ,\n",
              "       0.        , 0.        , 0.        , 0.        , 0.01333333,\n",
              "       0.        , 0.16      , 0.60444444, 0.5644444 , 0.27555555,\n",
              "       0.24      , 0.        , 0.        , 0.        , 0.00444444,\n",
              "       0.01333333, 0.01777778, 0.        , 0.        , 0.01333333,\n",
              "       0.        , 0.        , 0.        , 0.        , 0.        ,\n",
              "       0.        , 0.        , 0.        , 0.        , 0.        ,\n",
              "       0.        , 0.        , 0.02666667, 0.        , 0.45333335,\n",
              "       0.9066667 , 0.7822222 , 0.59555554, 0.64      , 0.5466667 ,\n",
              "       0.10222222, 0.        , 0.        , 0.        , 0.        ,\n",
              "       0.05333333, 0.04444445, 0.        , 0.        , 0.        ,\n",
              "       0.        , 0.        , 0.        , 0.        , 0.        ,\n",
              "       0.        , 0.        , 0.        , 0.        , 0.        ,\n",
              "       0.        , 0.        , 0.6888889 , 1.0488889 , 0.92      ,\n",
              "       0.7911111 , 0.47555557, 0.6933333 , 0.71555555, 0.48444444,\n",
              "       0.28444445, 0.10222222, 0.3422222 , 0.5777778 , 0.32      ,\n",
              "       0.06666667, 0.        , 0.        , 0.        , 0.        ,\n",
              "       0.        , 0.        , 0.        , 0.        , 0.        ,\n",
              "       0.        , 0.        , 0.00444444, 0.        , 0.30666667,\n",
              "       0.92      , 0.9911111 , 0.9688889 , 0.96      , 0.96      ,\n",
              "       0.72444445, 0.5644444 , 0.5377778 , 0.5422222 , 0.6488889 ,\n",
              "       0.62666667, 0.3911111 , 0.7644445 , 0.29333332, 0.        ,\n",
              "       0.        , 0.        , 0.        , 0.        , 0.        ,\n",
              "       0.        , 0.        , 0.        , 0.00444444, 0.00444444,\n",
              "       0.00444444, 0.        , 0.8888889 , 1.0311111 , 1.0311111 ,\n",
              "       1.0355556 , 1.0177778 , 0.9911111 , 0.9911111 , 0.95555556,\n",
              "       0.94666666, 0.72888887, 0.5644444 , 0.5466667 , 0.8711111 ,\n",
              "       1.0177778 , 0.        , 0.        , 0.        , 0.        ,\n",
              "       0.        , 0.        , 0.        , 0.        , 0.        ,\n",
              "       0.        , 0.        , 0.        , 0.        , 0.        ,\n",
              "       0.81333333, 1.        , 0.96      , 0.9911111 , 1.0133333 ,\n",
              "       1.0444444 , 1.0088888 , 0.9955556 , 0.9866667 , 0.9955556 ,\n",
              "       0.9822222 , 0.9911111 , 1.0888889 , 0.7688889 , 0.        ,\n",
              "       0.        , 0.        , 0.        , 0.        , 0.        ,\n",
              "       0.        , 0.        , 0.        , 0.        , 0.        ,\n",
              "       0.        , 0.        , 0.        , 0.8577778 , 1.0133333 ,\n",
              "       0.9688889 , 0.94666666, 0.88      , 0.8       , 0.94222224,\n",
              "       0.93333334, 0.93777776, 0.94666666, 0.9911111 , 0.9777778 ,\n",
              "       1.08      , 0.8977778 , 0.        , 0.        , 0.        ,\n",
              "       0.        , 0.        , 0.        , 0.        , 0.        ,\n",
              "       0.        , 0.        , 0.00444444, 0.01333333, 0.        ,\n",
              "       0.05333333, 0.97333336, 0.9777778 , 0.94222224, 0.9688889 ,\n",
              "       0.85333335, 0.7511111 , 1.0088888 , 0.92444444, 0.9688889 ,\n",
              "       0.9955556 , 0.94222224, 1.0044445 , 0.8755556 , 0.9288889 ,\n",
              "       0.23111111, 0.        , 0.        , 0.        , 0.        ,\n",
              "       0.        , 0.        , 0.        , 0.        , 0.        ,\n",
              "       0.        , 0.02666667, 0.        , 0.44      , 1.0844444 ,\n",
              "       0.9866667 , 0.9777778 , 0.9688889 , 0.9022222 , 0.88      ,\n",
              "       0.9822222 , 0.95555556, 0.94666666, 0.9866667 , 0.9777778 ,\n",
              "       1.0888889 , 0.5288889 , 0.74222225, 0.2488889 , 0.        ,\n",
              "       0.        , 0.        , 0.        , 0.        , 0.        ,\n",
              "       0.        , 0.        , 0.        , 0.01777778, 0.        ,\n",
              "       0.        , 0.24444444, 1.0488889 , 1.0133333 , 1.0222223 ,\n",
              "       1.0133333 , 1.0666667 , 1.0311111 , 0.94666666, 0.9688889 ,\n",
              "       0.9911111 , 1.04      , 0.96444446, 0.96444446, 0.9288889 ,\n",
              "       0.40888888, 0.        , 0.        , 0.        , 0.00444444,\n",
              "       0.01777778, 0.02666667, 0.03111111, 0.00888889, 0.        ,\n",
              "       0.        , 0.        , 0.        , 0.        , 1.0533333 ,\n",
              "       1.0044445 , 0.96444446, 0.9911111 , 0.9866667 , 0.97333336,\n",
              "       0.9866667 , 0.9822222 , 0.96      , 0.9911111 , 1.0177778 ,\n",
              "       0.95555556, 0.9688889 , 1.1333333 , 0.3422222 , 0.        ,\n",
              "       0.        , 0.01333333, 0.        , 0.        , 0.        ,\n",
              "       0.        , 0.        , 0.        , 0.        , 0.27555555,\n",
              "       0.64444447, 0.9066667 , 1.0133333 , 0.92      , 0.94666666,\n",
              "       0.9822222 , 0.9688889 , 0.92444444, 0.93777776, 0.9688889 ,\n",
              "       0.9955556 , 0.9911111 , 0.97333336, 0.95555556, 0.9955556 ,\n",
              "       1.0844444 , 0.70666665, 0.        , 0.        , 0.        ,\n",
              "       0.        , 0.        , 0.08      , 0.19555555, 0.36444443,\n",
              "       0.47555557, 0.84      , 1.0133333 , 0.9777778 , 0.9866667 ,\n",
              "       0.96444446, 1.0044445 , 0.8888889 , 0.9111111 , 0.93777776,\n",
              "       1.0222223 , 0.9955556 , 1.04      , 0.7822222 , 0.83555555,\n",
              "       1.1111112 , 1.1022222 , 1.0355556 , 1.0577778 , 0.95555556,\n",
              "       0.        , 0.        , 0.25333333, 0.83111113, 0.92444444,\n",
              "       0.9955556 , 0.9822222 , 0.9955556 , 0.92444444, 0.9066667 ,\n",
              "       0.95111114, 0.92444444, 0.9288889 , 0.8888889 , 0.70666665,\n",
              "       1.0888889 , 0.8577778 , 0.91555554, 0.9911111 , 1.1333333 ,\n",
              "       1.1333333 , 0.9822222 , 1.04      , 0.9822222 , 0.93777776,\n",
              "       0.9777778 , 1.0311111 , 1.0933334 , 0.        , 0.01333333,\n",
              "       0.8977778 , 1.0133333 , 0.9955556 , 0.9822222 , 0.93777776,\n",
              "       0.93777776, 0.95111114, 0.9111111 , 0.9111111 , 0.9111111 ,\n",
              "       0.9777778 , 1.0666667 , 0.35555556, 0.6666667 , 1.1333333 ,\n",
              "       1.0177778 , 0.9822222 , 0.83555555, 0.6844444 , 0.8488889 ,\n",
              "       0.93333334, 0.9066667 , 0.9288889 , 0.9866667 , 1.0133333 ,\n",
              "       1.        , 0.        , 0.43555555, 1.0355556 , 0.88      ,\n",
              "       0.93333334, 0.9866667 , 1.0177778 , 1.0177778 , 1.04      ,\n",
              "       1.1066667 , 0.9777778 , 0.8622222 , 0.95555556, 0.96444446,\n",
              "       1.0711111 , 0.2888889 , 0.32444444, 0.47111112, 0.52      ,\n",
              "       0.74666667, 0.97333336, 0.9822222 , 0.95555556, 0.96444446,\n",
              "       0.9911111 , 0.9911111 , 0.9955556 , 1.0177778 , 0.12888889,\n",
              "       0.33333334, 0.9066667 , 0.94222224, 0.9066667 , 0.8577778 ,\n",
              "       0.9111111 , 0.93777776, 1.        , 0.96      , 0.82222223,\n",
              "       0.8755556 , 0.91555554, 0.88      , 0.94666666, 1.0666667 ,\n",
              "       0.8666667 , 1.0088888 , 1.0888889 , 1.0622222 , 0.9911111 ,\n",
              "       0.9688889 , 0.94222224, 0.9288889 , 0.9866667 , 0.9777778 ,\n",
              "       0.9822222 , 1.0222223 , 0.29777777, 0.21333334, 0.9022222 ,\n",
              "       0.81333333, 0.8622222 , 0.94666666, 0.8755556 , 0.82222223,\n",
              "       0.84444445, 0.8622222 , 0.85333335, 0.8977778 , 0.95111114,\n",
              "       0.97333336, 0.9822222 , 0.9777778 , 1.0488889 , 1.        ,\n",
              "       0.96      , 0.8844444 , 0.91555554, 0.82666665, 0.80444443,\n",
              "       0.7866667 , 0.7644445 , 0.80444443, 0.9111111 , 0.91555554,\n",
              "       0.51111114, 0.        , 0.5422222 , 0.97333336, 0.8577778 ,\n",
              "       0.79555553, 0.76      , 0.81333333, 0.8711111 , 0.9066667 ,\n",
              "       0.93333334, 0.94666666, 0.92      , 0.93777776, 0.93333334,\n",
              "       0.8888889 , 0.8711111 , 0.8622222 , 0.8488889 , 0.8666667 ,\n",
              "       0.8488889 , 0.88      , 0.85333335, 0.7822222 , 0.6933333 ,\n",
              "       0.74222225, 0.7866667 , 0.93333334, 0.40888888, 0.        ,\n",
              "       0.        , 0.3288889 , 0.84      , 0.94222224, 0.8488889 ,\n",
              "       0.7777778 , 0.7644445 , 0.7777778 , 0.80444443, 0.82222223,\n",
              "       0.83555555, 0.84      , 0.83555555, 0.8577778 , 0.88      ,\n",
              "       0.9066667 , 0.9288889 , 0.93333334, 0.93333334, 0.93777776,\n",
              "       0.83555555, 0.83555555, 0.8622222 , 0.85333335, 0.96      ,\n",
              "       0.75555557, 0.        , 0.00888889, 0.        , 0.        ,\n",
              "       0.        , 0.29333332, 0.8888889 , 0.9866667 , 1.0533333 ,\n",
              "       1.0622222 , 1.0755556 , 1.0933334 , 1.08      , 1.0844444 ,\n",
              "       0.9822222 , 0.9777778 , 0.8577778 , 0.8488889 , 0.79555553,\n",
              "       0.8088889 , 0.8088889 , 0.80444443, 0.7822222 , 0.73777777,\n",
              "       0.74666667, 0.44      , 0.25777778, 0.        , 0.        ,\n",
              "       0.        , 0.        , 0.        , 0.        , 0.        ,\n",
              "       0.        , 0.        , 0.17777778, 0.2711111 , 0.19555555,\n",
              "       0.32      , 0.18222222, 0.15555556, 0.        , 0.        ,\n",
              "       0.        , 0.        , 0.        , 0.        , 0.        ,\n",
              "       0.        , 0.        , 0.        , 0.        , 0.        ,\n",
              "       0.        , 0.        , 0.        , 0.        , 0.        ,\n",
              "       0.        , 0.        , 0.        , 0.        , 0.        ,\n",
              "       0.        , 0.        , 0.        , 0.        , 0.        ,\n",
              "       0.        , 0.        , 0.        , 0.        , 0.        ,\n",
              "       0.        , 0.        , 0.        , 0.        , 0.        ,\n",
              "       0.        , 0.        , 0.        , 0.        , 0.        ,\n",
              "       0.        , 0.        , 0.        , 0.        , 0.        ,\n",
              "       0.        , 0.        , 0.        , 0.        , 0.        ,\n",
              "       0.        , 0.        , 0.        , 0.        , 0.        ,\n",
              "       0.        , 0.        , 0.        , 0.        , 0.        ,\n",
              "       0.        , 0.        , 0.        , 0.        , 0.        ,\n",
              "       0.        , 0.        , 0.        , 0.        ], dtype=float32)"
            ]
          },
          "metadata": {
            "tags": []
          },
          "execution_count": 13
        }
      ]
    },
    {
      "cell_type": "code",
      "metadata": {
        "id": "sG2p8l5Jvyqm"
      },
      "source": [
        "from tensorflow.keras.utils import to_categorical\r\n",
        "train_lables = to_categorical(train_lables)\r\n",
        "test_lables = to_categorical(test_lables)"
      ],
      "execution_count": 14,
      "outputs": []
    },
    {
      "cell_type": "code",
      "metadata": {
        "colab": {
          "base_uri": "https://localhost:8080/"
        },
        "id": "vsyayPJ1v10d",
        "outputId": "f944b96e-03a6-4d43-b365-9cfd3e5d26d3"
      },
      "source": [
        "network.fit(train_images,train_lables,epochs=30,batch_size=200)"
      ],
      "execution_count": 16,
      "outputs": [
        {
          "output_type": "stream",
          "text": [
            "Epoch 1/30\n",
            "300/300 [==============================] - 4s 12ms/step - loss: 0.2696 - accuracy: 0.9002\n",
            "Epoch 2/30\n",
            "300/300 [==============================] - 4s 12ms/step - loss: 0.2564 - accuracy: 0.9034\n",
            "Epoch 3/30\n",
            "300/300 [==============================] - 4s 12ms/step - loss: 0.2466 - accuracy: 0.9084\n",
            "Epoch 4/30\n",
            "300/300 [==============================] - 4s 12ms/step - loss: 0.2350 - accuracy: 0.9122\n",
            "Epoch 5/30\n",
            "300/300 [==============================] - 4s 12ms/step - loss: 0.2252 - accuracy: 0.9165\n",
            "Epoch 6/30\n",
            "300/300 [==============================] - 4s 12ms/step - loss: 0.2178 - accuracy: 0.9174\n",
            "Epoch 7/30\n",
            "300/300 [==============================] - 4s 12ms/step - loss: 0.2105 - accuracy: 0.9210\n",
            "Epoch 8/30\n",
            "300/300 [==============================] - 3s 12ms/step - loss: 0.2030 - accuracy: 0.9234\n",
            "Epoch 9/30\n",
            "300/300 [==============================] - 3s 12ms/step - loss: 0.1967 - accuracy: 0.9276\n",
            "Epoch 10/30\n",
            "300/300 [==============================] - 4s 13ms/step - loss: 0.1889 - accuracy: 0.9284\n",
            "Epoch 11/30\n",
            "300/300 [==============================] - 4s 12ms/step - loss: 0.1843 - accuracy: 0.9305\n",
            "Epoch 12/30\n",
            "300/300 [==============================] - 4s 12ms/step - loss: 0.1795 - accuracy: 0.9325\n",
            "Epoch 13/30\n",
            "300/300 [==============================] - 3s 12ms/step - loss: 0.1742 - accuracy: 0.9355\n",
            "Epoch 14/30\n",
            "300/300 [==============================] - 3s 12ms/step - loss: 0.1677 - accuracy: 0.9384\n",
            "Epoch 15/30\n",
            "300/300 [==============================] - 4s 12ms/step - loss: 0.1655 - accuracy: 0.9380\n",
            "Epoch 16/30\n",
            "300/300 [==============================] - 3s 12ms/step - loss: 0.1601 - accuracy: 0.9402\n",
            "Epoch 17/30\n",
            "300/300 [==============================] - 4s 12ms/step - loss: 0.1554 - accuracy: 0.9427\n",
            "Epoch 18/30\n",
            "300/300 [==============================] - 4s 12ms/step - loss: 0.1526 - accuracy: 0.9431\n",
            "Epoch 19/30\n",
            "300/300 [==============================] - 4s 12ms/step - loss: 0.1437 - accuracy: 0.9459\n",
            "Epoch 20/30\n",
            "300/300 [==============================] - 4s 12ms/step - loss: 0.1422 - accuracy: 0.9469\n",
            "Epoch 21/30\n",
            "300/300 [==============================] - 4s 12ms/step - loss: 0.1392 - accuracy: 0.9478\n",
            "Epoch 22/30\n",
            "300/300 [==============================] - 4s 12ms/step - loss: 0.1363 - accuracy: 0.9489\n",
            "Epoch 23/30\n",
            "300/300 [==============================] - 4s 12ms/step - loss: 0.1326 - accuracy: 0.9504\n",
            "Epoch 24/30\n",
            "300/300 [==============================] - 4s 12ms/step - loss: 0.1281 - accuracy: 0.9523\n",
            "Epoch 25/30\n",
            "300/300 [==============================] - 4s 12ms/step - loss: 0.1257 - accuracy: 0.9536\n",
            "Epoch 26/30\n",
            "300/300 [==============================] - 4s 12ms/step - loss: 0.1240 - accuracy: 0.9539\n",
            "Epoch 27/30\n",
            "300/300 [==============================] - 4s 12ms/step - loss: 0.1214 - accuracy: 0.9555\n",
            "Epoch 28/30\n",
            "300/300 [==============================] - 4s 12ms/step - loss: 0.1179 - accuracy: 0.9571\n",
            "Epoch 29/30\n",
            "300/300 [==============================] - 4s 12ms/step - loss: 0.1128 - accuracy: 0.9585\n",
            "Epoch 30/30\n",
            "300/300 [==============================] - 4s 12ms/step - loss: 0.1135 - accuracy: 0.9573\n"
          ],
          "name": "stdout"
        },
        {
          "output_type": "execute_result",
          "data": {
            "text/plain": [
              "<tensorflow.python.keras.callbacks.History at 0x7f286ccea908>"
            ]
          },
          "metadata": {
            "tags": []
          },
          "execution_count": 16
        }
      ]
    }
  ]
}